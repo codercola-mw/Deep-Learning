{
 "cells": [
  {
   "cell_type": "markdown",
   "metadata": {},
   "source": [
    "# Deep Neural Networks Laboration\n",
    "\n",
    "Data used in this laboration are from the Kitsune Network Attack Dataset, https://archive.ics.uci.edu/ml/datasets/Kitsune+Network+Attack+Dataset . We will focus on the 'Mirai' part of the dataset. Your task is to make a DNN that can classify if each attack is benign or malicious. The dataset has 116 covariates, but to make it a bit more difficult we will remove the first 24 covariates.\n",
    "\n",
    "You need to answer all questions in this notebook."
   ]
  },
  {
   "cell_type": "code",
   "execution_count": null,
   "metadata": {},
   "outputs": [],
   "source": [
    "Joris van Doorn, jorva845 || Weng Hang Wong, wenwo535"
   ]
  },
  {
   "cell_type": "markdown",
   "metadata": {},
   "source": [
    "# Part 1: Get the data\n",
    "\n",
    "Use `wget` in the terminal of your cloud machine (in the same directory as where you have saved this notebook) to download the data, i.e.\n",
    "\n",
    "wget https://archive.ics.uci.edu/ml/machine-learning-databases/00516/mirai/Mirai_dataset.csv.gz\n",
    "\n",
    "wget https://archive.ics.uci.edu/ml/machine-learning-databases/00516/mirai/Mirai_labels.csv.gz\n",
    "\n",
    "Then unpack the files using `gunzip` in the terminal, i.e.\n",
    "\n",
    "gunzip Mirai_dataset.csv.gz\n",
    "\n",
    "gunzip Mirai_labels.csv.gz"
   ]
  },
  {
   "cell_type": "markdown",
   "metadata": {},
   "source": [
    "# Part 3: Hardware\n",
    "\n",
    "In deep learning, the computer hardware is very important. You should always know what kind of hardware you are working on.\n",
    "\n",
    "Question 1: What graphics card is available in the cloud machine? Run 'nvidia-smi' in the terminal. \n",
    "\n",
    "Question 2: Google the name of the graphics card, how many CUDA cores does it have?\n",
    "\n",
    "Question 3: How much memory does the graphics card have?\n",
    "\n",
    "Question 4: What is stored in the GPU memory while training a DNN ?\n",
    "\n",
    "Question 5: What CPU is available in the cloud machine? How many cores does it have? Run 'lscpu' in the terminal.\n",
    "\n",
    "Question 6: How much CPU memory (RAM) is available in the cloud machine? Run 'free -g' in the terminal."
   ]
  },
  {
   "cell_type": "code",
   "execution_count": 1,
   "metadata": {},
   "outputs": [
    {
     "data": {
      "text/plain": [
       "'\\nQ1: The graphics card is Tesla K80.\\n\\nQ2: It has 4992 cores.\\n\\nQ3: It has 11441 MiB memory.\\n\\nQ4: Basically, the input data, weight parameters and activations are needed to stored in the CPU memory while training a DNN\\n\\nQ5:  CPU: Intel(R) Xeon(R) CPU E5-2690 v3 @ 2.60GHz, which has 6 cores\\n\\nQ6: 53GB CPU memory is available in the cloud machine.\\n'"
      ]
     },
     "execution_count": 1,
     "metadata": {},
     "output_type": "execute_result"
    }
   ],
   "source": [
    "'''\n",
    "Q1: The graphics card is Tesla K80.\n",
    "\n",
    "Q2: It has 4992 cores.\n",
    "\n",
    "Q3: It has 11441 MiB memory.\n",
    "\n",
    "Q4: Basically, the input data, weight parameters and activations are needed to stored in the CPU memory while training a DNN\n",
    "\n",
    "Q5:  CPU: Intel(R) Xeon(R) CPU E5-2690 v3 @ 2.60GHz, which has 6 cores\n",
    "\n",
    "Q6: 53GB CPU memory is available in the cloud machine.\n",
    "'''\n"
   ]
  },
  {
   "cell_type": "markdown",
   "metadata": {},
   "source": [
    "# Part 4: Load the data\n",
    "\n",
    "Load the dataset from the prepared npy files\n"
   ]
  },
  {
   "cell_type": "code",
   "execution_count": 4,
   "metadata": {},
   "outputs": [
    {
     "name": "stdout",
     "output_type": "stream",
     "text": [
      "The covariates of X have size (764137, 116).\n",
      "The covariates of X2 have size (764137, 92).\n",
      "The labels have size (764137,).\n",
      "The unique classes are:  [0. 1.]\n",
      "The number of examples of each class: \n",
      "[[0.00000e+00 1.00000e+00]\n",
      " [1.21621e+05 6.42516e+05]]\n"
     ]
    }
   ],
   "source": [
    "from numpy import genfromtxt\n",
    "import numpy as np\n",
    "\n",
    "# Load data from numpy arrays, for faster loading\n",
    "X = np.load('Mirai_data.npy')\n",
    "Y = np.load('Mirai_labels.npy')\n",
    "\n",
    "# Remove the first 24 covariates\n",
    "X2 = np.delete(X, range(24), axis=1)\n",
    "\n",
    "print('The covariates of X have size {}.'.format(X.shape))\n",
    "print('The covariates of X2 have size {}.'.format(X2.shape))\n",
    "print('The labels have size {}.'.format(Y.shape))\n",
    "\n",
    "uniq_Y=np.unique(Y)\n",
    "\n",
    "# Print the number of examples of each class\n",
    "print('The unique classes are: ', uniq_Y)\n",
    "uniq_elem, count_elem = np.unique(Y, return_counts=True)\n",
    "print(\"The number of examples of each class: \")\n",
    "print(np.asarray((uniq_elem, count_elem)))"
   ]
  },
  {
   "cell_type": "markdown",
   "metadata": {},
   "source": [
    "# Part 5: How good is a naive classifier?\n",
    "\n",
    "Question 7: Given the distribution of examples, how high classification performance can a naive classifier obtain? The naive classifier will assume that all examples belong to one class. Note: you do not need to make a naive classifier, this is a theoretical question, just to understand how good performance we can obtain by random chance."
   ]
  },
  {
   "cell_type": "code",
   "execution_count": 5,
   "metadata": {},
   "outputs": [
    {
     "name": "stdout",
     "output_type": "stream",
     "text": [
      "Check if there are NaNs in one of the columns of X:  [[False False False ... False False False]\n",
      " [False False False ... False False False]\n",
      " [False False False ... False False False]\n",
      " ...\n",
      " [False False False ... False False False]\n",
      " [False False False ... False False False]\n",
      " [False False False ... False False False]]\n",
      "Y has:  0  NaNs\n",
      "X has:  [0 0 0 0 0 0 0 0 0 0 0 0 0 0 0 0 0 0 0 0 0 0 0 0 0 0 0 0 0 0 0 0 0 0 0 0 0\n",
      " 0 0 0 0 0 0 0 0 0 0 0 0 0 0 0 0 0 0 0 0 0 0 0 0 0 0 0 0 0 0 0 0 0 0 0 0 0\n",
      " 0 0 0 0 0 0 0 0 0 0 0 0 0 0 0 0 0 0]  NaNs\n"
     ]
    }
   ],
   "source": [
    "# It is common to have NaNs in the data, lets check for it. Hint: np.isnan()\n",
    "print(\"Check if there are NaNs in one of the columns of X: \", np.isnan(X2))\n",
    "\n",
    "# Print the number of NaNs (not a number) in the labels\n",
    "print(\"Y has: \",sum(np.isnan(Y)),\" NaNs\")\n",
    "\n",
    "# Print the number of NaNs in the covariates\n",
    "print(\"X has: \", sum(np.isnan(X2)), \" NaNs\")"
   ]
  },
  {
   "cell_type": "markdown",
   "metadata": {},
   "source": [
    "# Part 6: Preprocessing\n",
    "\n",
    "Lets do some simple preprocessing"
   ]
  },
  {
   "cell_type": "code",
   "execution_count": 6,
   "metadata": {},
   "outputs": [
    {
     "name": "stdout",
     "output_type": "stream",
     "text": [
      "Mean:  [-6.10156770e-14  3.47659863e-13  2.82797379e-15  2.23343277e-13\n",
      "  8.03913919e-12  9.37897033e-16  1.57376266e-13  2.21307398e-16\n",
      "  3.57662511e-15 -5.80234522e-17 -7.56982884e-16 -4.52285371e-16\n",
      " -2.96068384e-17  3.08598289e-19 -2.28783497e-16 -1.78533699e-16\n",
      "  2.68098105e-16 -1.71154306e-14  6.76047607e-15 -2.72263891e-17\n",
      " -1.27856165e-19  6.54995509e-17  1.99553067e-14  5.94517218e-16\n",
      " -2.12336080e-14  7.74122120e-15 -1.60680329e-16  8.31530002e-18\n",
      " -1.35626100e-15 -1.51753644e-14 -1.34495387e-16 -1.70059300e-14\n",
      " -3.30406366e-15  1.52348757e-16 -2.83143288e-18 -2.69371645e-14\n",
      "  1.18546376e-14  2.36854708e-16 -1.04834988e-14 -1.86055919e-14\n",
      "  8.79576024e-16  1.53706357e-17  2.21307398e-16 -2.99841854e-10\n",
      "  8.38383693e-02 -2.28783497e-16  2.49296193e-10  5.16263445e-01\n",
      "  6.55367454e-17  2.79561187e-10  9.49944840e-01 -1.27621839e-15\n",
      " -9.26046432e-10  1.33471354e+00 -2.27094865e-15  4.03242052e-09\n",
      "  1.09216018e+00 -1.59728150e-14  1.44850341e-14  6.43465207e-17\n",
      "  9.08617506e-15 -1.60680329e-16  8.32844887e-19 -5.19415669e-21\n",
      "  2.76132121e-16  6.76047607e-16 -6.15941262e-17  4.25148249e-15\n",
      "  2.83273469e-16  1.27209619e-18 -1.07914962e-19 -7.39653213e-14\n",
      " -3.96356714e-14 -1.91923727e-17 -1.67583632e-14 -1.45564476e-15\n",
      "  4.20472433e-19 -4.46770121e-20 -6.09395026e-14 -2.46483625e-14\n",
      "  8.70351783e-18  2.01266990e-14  3.26478625e-15  6.05573289e-19\n",
      " -8.28522477e-20 -5.21642143e-13  1.73534756e-14 -7.37939290e-17\n",
      " -1.33662229e-14 -1.26639904e-15  1.07399178e-18 -1.04972817e-19]\n",
      "Standard Deviation:  [1. 1. 1. 1. 1. 1. 1. 1. 1. 1. 1. 1. 1. 1. 1. 1. 1. 1. 1. 1. 1. 1. 1. 1.\n",
      " 1. 1. 1. 1. 1. 1. 1. 1. 1. 1. 1. 1. 1. 1. 1. 1. 1. 1. 1. 1. 1. 1. 1. 1.\n",
      " 1. 1. 1. 1. 1. 1. 1. 1. 1. 1. 1. 1. 1. 1. 1. 1. 1. 1. 1. 1. 1. 1. 1. 1.\n",
      " 1. 1. 1. 1. 1. 1. 1. 1. 1. 1. 1. 1. 1. 1. 1. 1. 1. 1. 1. 1.]\n"
     ]
    }
   ],
   "source": [
    "# Convert covariates to floats\n",
    "X2=X2.astype(float)\n",
    "\n",
    "# Convert labels to ints\n",
    "Y=Y.astype(int)\n",
    "\n",
    "# Remove mean of each covariate (column)\n",
    "X_min_mean = X2 - X2.mean(axis=0, keepdims=True)\n",
    "\n",
    "# Divide each covariate (column) by its standard deviation\n",
    "X_div_std = X_min_mean / X_min_mean.std(axis=0)\n",
    "\n",
    "# Check that mean is 0 and standard deviation is 1 for all covariates, by printing mean and std\n",
    "print(\"Mean: \", X_min_mean.mean(axis=0))\n",
    "print(\"Standard Deviation: \", X_div_std.std(axis=0))\n",
    "\n"
   ]
  },
  {
   "cell_type": "markdown",
   "metadata": {},
   "source": [
    "# Part 7: Split the dataset\n",
    "\n",
    "Use the first 70% of the dataset for training, leave the other 30% for validation and test, call the variables\n",
    "\n",
    "Xtrain (70%)\n",
    "\n",
    "Xtemp  (30%)\n",
    "\n",
    "Ytrain (70%)\n",
    "\n",
    "Ytemp  (30%)\n"
   ]
  },
  {
   "cell_type": "code",
   "execution_count": 7,
   "metadata": {},
   "outputs": [
    {
     "name": "stdout",
     "output_type": "stream",
     "text": [
      "Xtrain has size (534896, 92).\n",
      "Ytrain has size (534896,).\n",
      "Xtemp has size (229241, 92).\n",
      "Ytemp has size (229241,).\n",
      "The number of examples of each class in Ytrain: \n",
      "[[     0      1]\n",
      " [121621 413275]]\n",
      "The number of examples of each class in Ytemp: \n",
      "[[     1]\n",
      " [229241]]\n"
     ]
    }
   ],
   "source": [
    "# Your code\n",
    "n_obs = len(X_div_std)\n",
    "\n",
    "n_train = round(n_obs * 0.7)\n",
    "n_temp = n_obs-n_train\n",
    "\n",
    "Xtrain, Xtemp = X_div_std[:n_train,:], X_div_std[n_train:,:]\n",
    "Ytrain, Ytemp = Y[:n_train,], Y[n_train:,]\n",
    "\n",
    "print('Xtrain has size {}.'.format(Xtrain.shape))\n",
    "print('Ytrain has size {}.'.format(Ytrain.shape))\n",
    "print('Xtemp has size {}.'.format(Xtemp.shape))\n",
    "print('Ytemp has size {}.'.format(Ytemp.shape))\n",
    "\n",
    "# Print the number of examples of each class, for the training data and the remaining 30%\n",
    "uniq_elem_Ytrain, count_elem_Ytrain = np.unique(Ytrain, return_counts=True)\n",
    "print(\"The number of examples of each class in Ytrain: \")\n",
    "print(np.asarray((uniq_elem_Ytrain, count_elem_Ytrain)))\n",
    "uniq_elem_Ytemp, count_elem_Ytemp = np.unique(Ytemp, return_counts=True)\n",
    "print(\"The number of examples of each class in Ytemp: \")\n",
    "print(np.asarray((uniq_elem_Ytemp, count_elem_Ytemp)))\n"
   ]
  },
  {
   "cell_type": "markdown",
   "metadata": {},
   "source": [
    "# Part 8: Number of examples per class\n",
    "\n",
    "Question 8: Can we use the dataset as it is? Why not? \n",
    "\n",
    "\n",
    "We can not use the orginal dataset. First, we want to avoid the relationship of the original order of training data. Second, the keras might learn the order on each training and it might cause overfitting, so we need to shuffle the data. Third, shuffling data helps to avoid the local minimum because it needs randomness to find the global minimum.\n",
    "\n",
    "\n",
    "Lets randomly shuffle the data, to get some examples of each class in training data and in the remaining 30%. Use the function `shuffle` in scikit learn\n",
    "\n",
    "https://scikit-learn.org/stable/modules/generated/sklearn.utils.shuffle.html"
   ]
  },
  {
   "cell_type": "code",
   "execution_count": 8,
   "metadata": {},
   "outputs": [
    {
     "name": "stdout",
     "output_type": "stream",
     "text": [
      "The number of examples of each class in Ytrain: \n",
      "[[     0      1]\n",
      " [ 85252 449644]]\n",
      "The number of examples of each class in Ytrain: \n",
      "[[     0      1]\n",
      " [ 36369 192872]]\n"
     ]
    }
   ],
   "source": [
    "from sklearn.utils import shuffle\n",
    "\n",
    "'''\n",
    "We cannot use the previous data, \n",
    "because the data is not shuffled, \n",
    "but sorted by class. \n",
    "As you can see Ytemp consists only of observations of class 1\n",
    "'''\n",
    "\n",
    "# Randomly shuffle data, to get both classes in training and testing\n",
    "X_shuf, Y_shuf =  shuffle(X_div_std, Y)\n",
    "\n",
    "# Divide the data into training and validation/test again\n",
    "Xtrain=X_shuf[0:n_train,]\n",
    "Ytrain=Y_shuf[0:n_train]\n",
    "Xtemp=X_shuf[n_train:,]\n",
    "Ytemp=Y_shuf[n_train:]\n",
    "\n",
    "# Print the number of examples of each class, for the training data and the remaining 30%\n",
    "uniq_elem_Ytrain, count_elem_Ytrain = np.unique(Ytrain, return_counts=True)\n",
    "print(\"The number of examples of each class in Ytrain: \")\n",
    "print(np.asarray((uniq_elem_Ytrain, count_elem_Ytrain)))\n",
    "uniq_elem_Ytemp, count_elem_Ytemp = np.unique(Ytemp, return_counts=True)\n",
    "print(\"The number of examples of each class in Ytrain: \")\n",
    "print(np.asarray((uniq_elem_Ytemp, count_elem_Ytemp)))\n"
   ]
  },
  {
   "cell_type": "markdown",
   "metadata": {},
   "source": [
    "#  Part 9: Split non-training data data into validation and test\n",
    "Split your non-training data (Xtemp, Ytemp) into 50% validation (Xval, Yval) and 50% testing (Xtest, Ytest), we use a function from scikit learn. \n",
    "\n",
    "https://scikit-learn.org/stable/modules/generated/sklearn.model_selection.train_test_split.html\n"
   ]
  },
  {
   "cell_type": "code",
   "execution_count": 9,
   "metadata": {},
   "outputs": [
    {
     "name": "stdout",
     "output_type": "stream",
     "text": [
      "The validation and test data have size (114621, 92), (114620, 92), (114621,) and (114620,)\n"
     ]
    }
   ],
   "source": [
    "from sklearn.model_selection import train_test_split\n",
    "\n",
    "\n",
    "Xtest, Xval, Ytest, Yval = train_test_split(Xtemp, Ytemp, test_size=0.5)\n",
    "\n",
    "\n",
    "print('The validation and test data have size {}, {}, {} and {}'.format(Xval.shape, Xtest.shape, Yval.shape, Ytest.shape))"
   ]
  },
  {
   "cell_type": "markdown",
   "metadata": {},
   "source": [
    "# Part 10: DNN classification\n",
    "\n",
    "Finish this code to create a first version of the classifier using a DNN. Start with a simple network with 2 dense layers (with 20 nodes each), using sigmoid activation functions. The final dense layer should have a single node and a sigmoid activation function. We start with the SGD optimizer.\n",
    "\n",
    "Relevant functions are\n",
    "\n",
    "`model.add()`, adds a layer to the network\n",
    "\n",
    "`Dense()`, a dense network layer\n",
    "\n",
    "`model.compile()`, compile the model, add \" metrics=['accuracy'] \" to print the classification accuracy during the training\n",
    "\n",
    "`model.fit()`, train the model with some training data\n",
    "\n",
    "`model.evaluate()`, apply the trained model to some test data\n",
    "\n",
    "See https://keras.io/layers/core/ for information on how the `Dense()` function works\n",
    "\n",
    "Import a relevant cost / loss function for binary classification from keras.losses (https://keras.io/losses/)\n",
    "\n",
    "See https://keras.io/models/model/ for how to compile, train and evaluate the model"
   ]
  },
  {
   "cell_type": "code",
   "execution_count": 68,
   "metadata": {},
   "outputs": [],
   "source": [
    "from keras.models import Sequential, Model\n",
    "from keras.layers import Input, Dense, Dropout\n",
    "from keras.optimizers import SGD, Adam\n",
    "from keras.losses import binary_crossentropy as BC\n",
    "from keras.layers.normalization import BatchNormalization\n",
    "\n",
    "# Set seed from random number generator, for better comparisons\n",
    "from numpy.random import seed\n",
    "seed(123)\n",
    "\n",
    "def build_DNN(input_shape, n_layers, n_nodes, act_fun='sigmoid', optimizer='sgd', learning_rate=0.01, \n",
    "              use_bn=False, use_dropout=False, use_custom_dropout=False):\n",
    "    \n",
    "    # Setup optimizer, depending on input parameter string\n",
    "    if optimizer == 'sgd':\n",
    "        optimizer = SGD(lr=learning_rate)\n",
    "    elif optimizer == 'adam':\n",
    "        optimizer = Adam(learning_rate=learning_rate, beta_1=0.9, beta_2=0.999, amsgrad=False)\n",
    "    \n",
    "    # Setup a sequential model\n",
    "    model = Sequential()\n",
    "\n",
    "    # Add layers to the model, using the input parameters of the build_DNN function\n",
    "    # Add first layer, requires input shape\n",
    "    model.add(Dense(n_nodes, activation=act_fun,input_shape=input_shape))\n",
    "        \n",
    "    # Add remaining layers, do not require input shape\n",
    "    for i in range(n_layers-1):\n",
    "        model.add(Dense(n_nodes,activation=act_fun))\n",
    "        if(use_bn==True):\n",
    "            model.add(BatchNormalization())\n",
    "        if(use_dropout==True):\n",
    "            model.add(Dropout(rate=0.5, noise_shape=None, seed=None))\n",
    "        if(use_custom_dropout==True):\n",
    "            myDropout(0.5)\n",
    "               \n",
    "    # Final layer\n",
    "    model.add(Dense(1,activation='sigmoid'))\n",
    "    \n",
    "    # Compile model\n",
    "    model.compile(loss=BC,\n",
    "                  optimizer=optimizer,\n",
    "                  metrics=['accuracy'])\n",
    "    \n",
    "    return model"
   ]
  },
  {
   "cell_type": "code",
   "execution_count": 11,
   "metadata": {},
   "outputs": [],
   "source": [
    "# Lets define a help function for plotting the training results\n",
    "\n",
    "# IMPORTANT NOTE\n",
    "# The history unfortunately behaves a bit randomly for every user\n",
    "# If the plots for accuracy and loss look mixed, change the order of\n",
    "# val_loss, val_acc, loss, acc\n",
    "# until the plots look as they \"should\"\n",
    "\n",
    "import matplotlib.pyplot as plt\n",
    "def plot_results(history):\n",
    "    val_loss, val_acc, loss, acc = history.history.values()\n",
    "\n",
    "    plt.figure(figsize=(10,4))\n",
    "    plt.xlabel('Epochs')\n",
    "    plt.ylabel('Loss')\n",
    "    plt.plot(loss)\n",
    "    plt.plot(val_loss)\n",
    "    plt.legend(['Training','Validation'])\n",
    "\n",
    "    plt.figure(figsize=(10,4))\n",
    "    plt.xlabel('Epochs')\n",
    "    plt.ylabel('Accuracy')\n",
    "    plt.plot(acc)\n",
    "    plt.plot(val_acc)\n",
    "    plt.legend(['Training','Validation'])\n",
    "\n",
    "    plt.show()"
   ]
  },
  {
   "cell_type": "markdown",
   "metadata": {},
   "source": [
    "# Part 11: Train the DNN\n",
    "\n",
    "Time to train the DNN, we start simple with 2 layers with 2 nodes each, learning rate 0.1."
   ]
  },
  {
   "cell_type": "markdown",
   "metadata": {},
   "source": [
    "### 2 layers, 20 nodes"
   ]
  },
  {
   "cell_type": "code",
   "execution_count": 12,
   "metadata": {
    "scrolled": true
   },
   "outputs": [
    {
     "name": "stdout",
     "output_type": "stream",
     "text": [
      "WARNING:tensorflow:From /home/mecon/.local/lib/python3.6/site-packages/tensorflow/python/ops/nn_impl.py:180: add_dispatch_support.<locals>.wrapper (from tensorflow.python.ops.array_ops) is deprecated and will be removed in a future version.\n",
      "Instructions for updating:\n",
      "Use tf.where in 2.0, which has the same broadcast rule as np.where\n",
      "WARNING:tensorflow:From /usr/local/lib/python3.6/dist-packages/keras/backend/tensorflow_backend.py:422: The name tf.global_variables is deprecated. Please use tf.compat.v1.global_variables instead.\n",
      "\n",
      "Train on 534896 samples, validate on 114621 samples\n",
      "Epoch 1/20\n",
      " - 1s - loss: 0.4482 - accuracy: 0.8274 - val_loss: 0.4023 - val_accuracy: 0.8409\n",
      "Epoch 2/20\n",
      " - 1s - loss: 0.3802 - accuracy: 0.8406 - val_loss: 0.3545 - val_accuracy: 0.8409\n",
      "Epoch 3/20\n",
      " - 1s - loss: 0.3288 - accuracy: 0.8406 - val_loss: 0.3008 - val_accuracy: 0.8409\n",
      "Epoch 4/20\n",
      " - 1s - loss: 0.2770 - accuracy: 0.8406 - val_loss: 0.2539 - val_accuracy: 0.8409\n",
      "Epoch 5/20\n",
      " - 1s - loss: 0.2379 - accuracy: 0.8505 - val_loss: 0.2236 - val_accuracy: 0.8597\n",
      "Epoch 6/20\n",
      " - 1s - loss: 0.2146 - accuracy: 0.8735 - val_loss: 0.2069 - val_accuracy: 0.8957\n",
      "Epoch 7/20\n",
      " - 1s - loss: 0.2018 - accuracy: 0.9027 - val_loss: 0.1974 - val_accuracy: 0.9046\n",
      "Epoch 8/20\n",
      " - 1s - loss: 0.1943 - accuracy: 0.9052 - val_loss: 0.1916 - val_accuracy: 0.9047\n",
      "Epoch 9/20\n",
      " - 1s - loss: 0.1895 - accuracy: 0.9057 - val_loss: 0.1877 - val_accuracy: 0.9051\n",
      "Epoch 10/20\n",
      " - 1s - loss: 0.1861 - accuracy: 0.9059 - val_loss: 0.1848 - val_accuracy: 0.9052\n",
      "Epoch 11/20\n",
      " - 1s - loss: 0.1836 - accuracy: 0.9061 - val_loss: 0.1825 - val_accuracy: 0.9053\n",
      "Epoch 12/20\n",
      " - 1s - loss: 0.1815 - accuracy: 0.9063 - val_loss: 0.1807 - val_accuracy: 0.9056\n",
      "Epoch 13/20\n",
      " - 1s - loss: 0.1798 - accuracy: 0.9066 - val_loss: 0.1791 - val_accuracy: 0.9060\n",
      "Epoch 14/20\n",
      " - 1s - loss: 0.1783 - accuracy: 0.9071 - val_loss: 0.1777 - val_accuracy: 0.9066\n",
      "Epoch 15/20\n",
      " - 1s - loss: 0.1770 - accuracy: 0.9076 - val_loss: 0.1764 - val_accuracy: 0.9073\n",
      "Epoch 16/20\n",
      " - 1s - loss: 0.1759 - accuracy: 0.9080 - val_loss: 0.1753 - val_accuracy: 0.9077\n",
      "Epoch 17/20\n",
      " - 1s - loss: 0.1748 - accuracy: 0.9083 - val_loss: 0.1742 - val_accuracy: 0.9079\n",
      "Epoch 18/20\n",
      " - 1s - loss: 0.1738 - accuracy: 0.9085 - val_loss: 0.1733 - val_accuracy: 0.9080\n",
      "Epoch 19/20\n",
      " - 1s - loss: 0.1729 - accuracy: 0.9087 - val_loss: 0.1724 - val_accuracy: 0.9082\n",
      "Epoch 20/20\n",
      " - 1s - loss: 0.1721 - accuracy: 0.9089 - val_loss: 0.1715 - val_accuracy: 0.9084\n"
     ]
    }
   ],
   "source": [
    "# Setup some training parameters\n",
    "batch_size = 10000\n",
    "epochs = 20\n",
    "\n",
    "input_shape = Xtrain.shape[1:]\n",
    "\n",
    "# Build the model\n",
    "model1 = build_DNN(input_shape=input_shape, \n",
    "                   n_layers=2, \n",
    "                   n_nodes=20, \n",
    "                   act_fun='sigmoid', \n",
    "                   optimizer='sgd', \n",
    "                   learning_rate=0.1, \n",
    "                   use_bn=False, \n",
    "                   use_dropout=False, \n",
    "                   use_custom_dropout=False)\n",
    "\n",
    "# Train the model, provide training data and validation data\n",
    "history1 = model1.fit(Xtrain, \n",
    "                      Ytrain, \n",
    "                      batch_size=batch_size, \n",
    "                      epochs=epochs,\n",
    "                      verbose=2,\n",
    "                      validation_data=(Xval,Yval))"
   ]
  },
  {
   "cell_type": "code",
   "execution_count": 13,
   "metadata": {},
   "outputs": [
    {
     "name": "stdout",
     "output_type": "stream",
     "text": [
      "114620/114620 [==============================] - 0s 1us/step\n",
      "Test loss: 0.1724\n",
      "Test accuracy: 0.9078\n"
     ]
    }
   ],
   "source": [
    "# Evaluate the model on the test data\n",
    "score = model1.evaluate(Xtest,Ytest,batch_size=batch_size)\n",
    "\n",
    "print('Test loss: %.4f' % score[0])\n",
    "print('Test accuracy: %.4f' % score[1])"
   ]
  },
  {
   "cell_type": "code",
   "execution_count": 14,
   "metadata": {},
   "outputs": [
    {
     "data": {
      "image/png": "[encoded data removed]",
      "text/plain": [
       "<Figure size 720x288 with 1 Axes>"
      ]
     },
     "metadata": {
      "needs_background": "light"
     },
     "output_type": "display_data"
    },
    {
     "data": {
      "image/png": "[encoded data removed]",
      "text/plain": [
       "<Figure size 720x288 with 1 Axes>"
      ]
     },
     "metadata": {
      "needs_background": "light"
     },
     "output_type": "display_data"
    }
   ],
   "source": [
    "# Plot the history from the training run\n",
    "plot_results(history1)"
   ]
  },
  {
   "cell_type": "markdown",
   "metadata": {},
   "source": [
    "# Part 12: More questions\n",
    "\n",
    "**Question 9: What happens if you add several Dense layers without specifying the activation function?**\n",
    "\n",
    "\n",
    "The activiation model is by default the 'sigmoid' function, as defined in the model function in part 10.\n",
    "\n",
    "**Question 10: How are the weights in each dense layer initialized as default? How are the bias weights initialized?**\n",
    "\n",
    "\n",
    "\n",
    "In our model we did not specify the initialization of the weights, thus we are assuming the default settings are used.\n",
    "The Keras documentation teaches us that the weights are glorot uniform, which means that they are uniformly sampled between -limit and limit.\n",
    "Where the limit is: sqrt(6 / (#input_units + #output_units)) in the weight tensor.\n"
   ]
  },
  {
   "cell_type": "code",
   "execution_count": null,
   "metadata": {},
   "outputs": [],
   "source": []
  },
  {
   "cell_type": "markdown",
   "metadata": {},
   "source": [
    "# Part 13: Balancing the classes\n",
    "\n",
    "This dataset is rather unbalanced, we need to define class weights so that the training pays more attention to the class with fewer samples. We use a function in scikit learn\n",
    "\n",
    "https://scikit-learn.org/stable/modules/generated/sklearn.utils.class_weight.compute_class_weight.html"
   ]
  },
  {
   "cell_type": "code",
   "execution_count": 15,
   "metadata": {},
   "outputs": [
    {
     "name": "stdout",
     "output_type": "stream",
     "text": [
      "[3.13714634 0.59479944]\n"
     ]
    }
   ],
   "source": [
    "from sklearn.utils import class_weight\n",
    "\n",
    "# Calculate class weights\n",
    "#sklearn.utils.class_weight.compute_class_weight(class_weight, classes, y)\n",
    "class_weights = class_weight.compute_class_weight('balanced',\n",
    "                                                 np.unique(Ytrain),\n",
    "                                                 Ytrain)\n",
    "\n",
    "# Print the class weights\n",
    "print(class_weights)"
   ]
  },
  {
   "cell_type": "markdown",
   "metadata": {},
   "source": [
    "### 2 layers, 20 nodes, class weights"
   ]
  },
  {
   "cell_type": "code",
   "execution_count": 23,
   "metadata": {
    "scrolled": true
   },
   "outputs": [
    {
     "name": "stdout",
     "output_type": "stream",
     "text": [
      "Train on 534896 samples, validate on 114621 samples\n",
      "Epoch 1/20\n",
      " - 1s - loss: 0.4190 - accuracy: 0.8406 - val_loss: 0.3875 - val_accuracy: 0.8409\n",
      "Epoch 2/20\n",
      " - 1s - loss: 0.3627 - accuracy: 0.8406 - val_loss: 0.3346 - val_accuracy: 0.8409\n",
      "Epoch 3/20\n",
      " - 1s - loss: 0.3081 - accuracy: 0.8406 - val_loss: 0.2809 - val_accuracy: 0.8409\n",
      "Epoch 4/20\n",
      " - 1s - loss: 0.2601 - accuracy: 0.8423 - val_loss: 0.2410 - val_accuracy: 0.8526\n",
      "Epoch 5/20\n",
      " - 1s - loss: 0.2284 - accuracy: 0.8620 - val_loss: 0.2176 - val_accuracy: 0.8794\n",
      "Epoch 6/20\n",
      " - 1s - loss: 0.2105 - accuracy: 0.8906 - val_loss: 0.2045 - val_accuracy: 0.9029\n",
      "Epoch 7/20\n",
      " - 1s - loss: 0.2002 - accuracy: 0.9041 - val_loss: 0.1966 - val_accuracy: 0.9039\n",
      "Epoch 8/20\n",
      " - 1s - loss: 0.1938 - accuracy: 0.9047 - val_loss: 0.1914 - val_accuracy: 0.9043\n",
      "Epoch 9/20\n",
      " - 1s - loss: 0.1894 - accuracy: 0.9053 - val_loss: 0.1877 - val_accuracy: 0.9050\n",
      "Epoch 10/20\n",
      " - 1s - loss: 0.1861 - accuracy: 0.9061 - val_loss: 0.1848 - val_accuracy: 0.9056\n",
      "Epoch 11/20\n",
      " - 1s - loss: 0.1835 - accuracy: 0.9066 - val_loss: 0.1825 - val_accuracy: 0.9063\n",
      "Epoch 12/20\n",
      " - 1s - loss: 0.1814 - accuracy: 0.9071 - val_loss: 0.1805 - val_accuracy: 0.9065\n",
      "Epoch 13/20\n",
      " - 1s - loss: 0.1796 - accuracy: 0.9075 - val_loss: 0.1789 - val_accuracy: 0.9068\n",
      "Epoch 14/20\n",
      " - 1s - loss: 0.1780 - accuracy: 0.9078 - val_loss: 0.1774 - val_accuracy: 0.9072\n",
      "Epoch 15/20\n",
      " - 1s - loss: 0.1767 - accuracy: 0.9081 - val_loss: 0.1761 - val_accuracy: 0.9075\n",
      "Epoch 16/20\n",
      " - 1s - loss: 0.1755 - accuracy: 0.9085 - val_loss: 0.1750 - val_accuracy: 0.9080\n",
      "Epoch 17/20\n",
      " - 1s - loss: 0.1744 - accuracy: 0.9087 - val_loss: 0.1739 - val_accuracy: 0.9083\n",
      "Epoch 18/20\n",
      " - 1s - loss: 0.1734 - accuracy: 0.9091 - val_loss: 0.1730 - val_accuracy: 0.9085\n",
      "Epoch 19/20\n",
      " - 1s - loss: 0.1725 - accuracy: 0.9092 - val_loss: 0.1721 - val_accuracy: 0.9089\n",
      "Epoch 20/20\n",
      " - 1s - loss: 0.1717 - accuracy: 0.9094 - val_loss: 0.1713 - val_accuracy: 0.9090\n"
     ]
    }
   ],
   "source": [
    "# Setup some training parameters\n",
    "batch_size = 10000\n",
    "epochs = 20\n",
    "input_shape = Xtrain.shape[1:]\n",
    "\n",
    "# Build and train model\n",
    "model2 = build_DNN(input_shape=input_shape, \n",
    "                   n_layers=2, \n",
    "                   n_nodes=20,\n",
    "                   act_fun='sigmoid', \n",
    "                   optimizer='sgd', \n",
    "                   learning_rate=0.1, \n",
    "                   use_bn=False, \n",
    "                   use_dropout=False, \n",
    "                   use_custom_dropout=False)\n",
    "\n",
    "history2 = model2.fit(Xtrain, \n",
    "                      Ytrain, \n",
    "                      class_weight=class_weights,\n",
    "                      batch_size=batch_size, \n",
    "                      epochs=epochs,\n",
    "                      verbose=2,\n",
    "                      validation_data=(Xval,Yval))"
   ]
  },
  {
   "cell_type": "code",
   "execution_count": 18,
   "metadata": {},
   "outputs": [
    {
     "name": "stdout",
     "output_type": "stream",
     "text": [
      "114620/114620 [==============================] - 0s 1us/step\n",
      "Test loss: 0.1729\n",
      "Test accuracy: 0.9075\n"
     ]
    }
   ],
   "source": [
    "# Evaluate model on test data\n",
    "score = model2.evaluate(Xtest,Ytest,batch_size=batch_size)\n",
    "\n",
    "print('Test loss: %.4f' % score[0])\n",
    "print('Test accuracy: %.4f' % score[1])"
   ]
  },
  {
   "cell_type": "code",
   "execution_count": 20,
   "metadata": {},
   "outputs": [
    {
     "data": {
      "image/png": "[encoded data removed]",
      "text/plain": [
       "<Figure size 720x288 with 1 Axes>"
      ]
     },
     "metadata": {
      "needs_background": "light"
     },
     "output_type": "display_data"
    },
    {
     "data": {
      "image/png": "[encoded data removed]",
      "text/plain": [
       "<Figure size 720x288 with 1 Axes>"
      ]
     },
     "metadata": {
      "needs_background": "light"
     },
     "output_type": "display_data"
    }
   ],
   "source": [
    "plot_results(history2)"
   ]
  },
  {
   "cell_type": "markdown",
   "metadata": {},
   "source": [
    "# Part 14: More questions\n",
    "\n",
    "**Question 11: Why do we have to use a batch size? Why can't we simply use all data at once? This is more relevant for even larger datasets.**\n",
    "\n",
    "\n",
    "Deep Learning requires so much data that it normally cannot fit in the memory of the GPU at once, especially accounting for the weights of the network, gradients of all parameters, and the outputs and filter responses for each layer. The more data, the faster it grows, because it is not linear.\n",
    "\n",
    "**Question 12: How busy is the GPU for a batch size of 100? How much GPU memory is used? Hint: run 'nvidia-smi' on the cloud computer a few times during training.**\n",
    "\n",
    "\n",
    "\n",
    "\n",
    "**Question 13: What is the processing time for one training epoch when the batch size is 100? What is the processing time for one epoch when the batch size is 1,000? What is the processing time for one epoch when the batch size is 10,000? Explain the results.**\n",
    "\n",
    "\n",
    "Our own computers (CPU: Intel Core i7-8550U, GPU: GeForce 940MX) produced the following results when rerunning part 13 with different batch sizes.\n",
    "Batchsize | average time per epoch\n",
    "10000     | 3s\n",
    "1000      | 3.3s\n",
    "100       | 16s\n",
    "This result is not surprising, a small batch size corresponds to a larger number of weight updates as follows: #training_examples/batch_size. From the formula it becomes clear that when the batch size is small the number of weight updates will increase. More computations take longer time.\n",
    "\n",
    "**Question 14: How many times are the weights in the DNN updated in each training epoch if the batch size is 100? How many times are the weights in the DNN updated in each training epoch if the batch size is 1,000? How many times are the weights in the DNN updated in each training epoch if the batch size is 10,000?**\n",
    "\n",
    "\n",
    "The training data has 534896 observations, thus the number of weight updates are:\n",
    "100: 534896/100 = 5349\n",
    "1000: 534896/1000 = 535\n",
    "10000: 534896/10000 = 53\n",
    "\n",
    "**Question 15: What limits how large the batch size can be?**\n",
    "\n",
    "\n",
    "The GPU is normally the limiting factor. A strong GPU can handle larger batch sizes.\n",
    "\n",
    "**Question 16: Generally speaking, how is the learning rate related to the batch size? If the batch size is decreased, how should the learning rate be changed?**\n",
    "\n",
    "\n",
    "For small batch sizes there is a higher uncertainty about the gradient, thus the learning rate needs to be small in order to estimate it correctly. In contrast, a large batch size can have a larger learning rate because it has fewer weight updates.\n",
    "\n",
    "Lets use a batch size of 10,000 from now on, and a learning rate of 0.1."
   ]
  },
  {
   "cell_type": "markdown",
   "metadata": {},
   "source": [
    "# Part 15: Increasing the complexity\n",
    "\n",
    "Lets try some different configurations of number of layers and number of nodes per layer.\n",
    "\n",
    "**Question 17: How many trainable parameters does the network with 4 dense layers with 50 nodes each have, compared to the initial network with 2 layers and 20 nodes per layer? Hint: use model.summary()**\n",
    "\n",
    "2 layers, 20 nodes has 2,301 trainable parameters\n",
    "4 layers, 50 nodes has 12,351 trainable parameters"
   ]
  },
  {
   "cell_type": "markdown",
   "metadata": {},
   "source": [
    "### 4 layers, 20 nodes, class weights"
   ]
  },
  {
   "cell_type": "code",
   "execution_count": 19,
   "metadata": {
    "scrolled": true
   },
   "outputs": [
    {
     "name": "stdout",
     "output_type": "stream",
     "text": [
      "Model: \"sequential_2\"\n",
      "_________________________________________________________________\n",
      "Layer (type)                 Output Shape              Param #   \n",
      "=================================================================\n",
      "dense_4 (Dense)              (None, 20)                1860      \n",
      "_________________________________________________________________\n",
      "dense_5 (Dense)              (None, 20)                420       \n",
      "_________________________________________________________________\n",
      "dense_6 (Dense)              (None, 1)                 21        \n",
      "=================================================================\n",
      "Total params: 2,301\n",
      "Trainable params: 2,301\n",
      "Non-trainable params: 0\n",
      "_________________________________________________________________\n",
      "Train on 534896 samples, validate on 114621 samples\n",
      "Epoch 1/20\n",
      " - 1s - loss: 0.4448 - accuracy: 0.8406 - val_loss: 0.4381 - val_accuracy: 0.8409\n",
      "Epoch 2/20\n",
      " - 1s - loss: 0.4385 - accuracy: 0.8406 - val_loss: 0.4379 - val_accuracy: 0.8409\n",
      "Epoch 3/20\n",
      " - 1s - loss: 0.4383 - accuracy: 0.8406 - val_loss: 0.4377 - val_accuracy: 0.8409\n",
      "Epoch 4/20\n",
      " - 1s - loss: 0.4381 - accuracy: 0.8406 - val_loss: 0.4375 - val_accuracy: 0.8409\n",
      "Epoch 5/20\n",
      " - 1s - loss: 0.4379 - accuracy: 0.8406 - val_loss: 0.4373 - val_accuracy: 0.8409\n",
      "Epoch 6/20\n",
      " - 1s - loss: 0.4377 - accuracy: 0.8406 - val_loss: 0.4371 - val_accuracy: 0.8409\n",
      "Epoch 7/20\n",
      " - 1s - loss: 0.4375 - accuracy: 0.8406 - val_loss: 0.4369 - val_accuracy: 0.8409\n",
      "Epoch 8/20\n",
      " - 1s - loss: 0.4373 - accuracy: 0.8406 - val_loss: 0.4366 - val_accuracy: 0.8409\n",
      "Epoch 9/20\n",
      " - 1s - loss: 0.4370 - accuracy: 0.8406 - val_loss: 0.4364 - val_accuracy: 0.8409\n",
      "Epoch 10/20\n",
      " - 1s - loss: 0.4367 - accuracy: 0.8406 - val_loss: 0.4361 - val_accuracy: 0.8409\n",
      "Epoch 11/20\n",
      " - 1s - loss: 0.4364 - accuracy: 0.8406 - val_loss: 0.4358 - val_accuracy: 0.8409\n",
      "Epoch 12/20\n",
      " - 1s - loss: 0.4361 - accuracy: 0.8406 - val_loss: 0.4354 - val_accuracy: 0.8409\n",
      "Epoch 13/20\n",
      " - 1s - loss: 0.4357 - accuracy: 0.8406 - val_loss: 0.4350 - val_accuracy: 0.8409\n",
      "Epoch 14/20\n",
      " - 1s - loss: 0.4353 - accuracy: 0.8406 - val_loss: 0.4345 - val_accuracy: 0.8409\n",
      "Epoch 15/20\n",
      " - 1s - loss: 0.4348 - accuracy: 0.8406 - val_loss: 0.4340 - val_accuracy: 0.8409\n",
      "Epoch 16/20\n",
      " - 1s - loss: 0.4342 - accuracy: 0.8406 - val_loss: 0.4334 - val_accuracy: 0.8409\n",
      "Epoch 17/20\n",
      " - 1s - loss: 0.4335 - accuracy: 0.8406 - val_loss: 0.4326 - val_accuracy: 0.8409\n",
      "Epoch 18/20\n",
      " - 1s - loss: 0.4327 - accuracy: 0.8406 - val_loss: 0.4317 - val_accuracy: 0.8409\n",
      "Epoch 19/20\n",
      " - 1s - loss: 0.4317 - accuracy: 0.8406 - val_loss: 0.4307 - val_accuracy: 0.8409\n",
      "Epoch 20/20\n",
      " - 1s - loss: 0.4306 - accuracy: 0.8406 - val_loss: 0.4294 - val_accuracy: 0.8409\n"
     ]
    }
   ],
   "source": [
    "# Let's find out for model2\n",
    "model2.summary()\n",
    "\n",
    "# Setup some training parameters\n",
    "batch_size = 10000\n",
    "epochs = 20\n",
    "input_shape = Xtrain.shape[1:]\n",
    "\n",
    "# Build and train model\n",
    "model3 = build_DNN(input_shape=input_shape, \n",
    "                   n_layers=4, \n",
    "                   n_nodes=20,\n",
    "                   act_fun='sigmoid', \n",
    "                   optimizer='sgd', \n",
    "                   learning_rate=0.1, \n",
    "                   use_bn=False, \n",
    "                   use_dropout=False, \n",
    "                   use_custom_dropout=False)\n",
    "\n",
    "history3 = model3.fit(Xtrain, \n",
    "                      Ytrain, \n",
    "                      class_weight=class_weights,\n",
    "                      batch_size=batch_size, \n",
    "                      epochs=epochs,\n",
    "                      verbose=2,\n",
    "                      validation_data=(Xval,Yval))\n",
    "\n"
   ]
  },
  {
   "cell_type": "code",
   "execution_count": 32,
   "metadata": {},
   "outputs": [
    {
     "name": "stdout",
     "output_type": "stream",
     "text": [
      "114620/114620 [==============================] - 0s 1us/step\n",
      "Test loss: 0.4280\n",
      "Test accuracy: 0.8418\n"
     ]
    }
   ],
   "source": [
    "# Evaluate model on test data\n",
    "score = model3.evaluate(Xtest,Ytest,batch_size=batch_size)\n",
    "\n",
    "print('Test loss: %.4f' % score[0])\n",
    "print('Test accuracy: %.4f' % score[1])"
   ]
  },
  {
   "cell_type": "code",
   "execution_count": 33,
   "metadata": {},
   "outputs": [
    {
     "data": {
      "image/png": "[encoded data removed]",
      "text/plain": [
       "<Figure size 720x288 with 1 Axes>"
      ]
     },
     "metadata": {
      "needs_background": "light"
     },
     "output_type": "display_data"
    },
    {
     "data": {
      "image/png": "[encoded data removed]",
      "text/plain": [
       "<Figure size 720x288 with 1 Axes>"
      ]
     },
     "metadata": {
      "needs_background": "light"
     },
     "output_type": "display_data"
    }
   ],
   "source": [
    "plot_results(history3)"
   ]
  },
  {
   "cell_type": "markdown",
   "metadata": {},
   "source": [
    "### 2 layers, 50 nodes, class weights"
   ]
  },
  {
   "cell_type": "code",
   "execution_count": 31,
   "metadata": {
    "scrolled": true
   },
   "outputs": [
    {
     "name": "stdout",
     "output_type": "stream",
     "text": [
      "Train on 534896 samples, validate on 114621 samples\n",
      "Epoch 1/20\n",
      " - 7s - loss: 0.4313 - accuracy: 0.8278 - val_loss: 0.3990 - val_accuracy: 0.8394\n",
      "Epoch 2/20\n",
      " - 5s - loss: 0.3704 - accuracy: 0.8408 - val_loss: 0.3412 - val_accuracy: 0.8394\n",
      "Epoch 3/20\n",
      " - 5s - loss: 0.3067 - accuracy: 0.8412 - val_loss: 0.2758 - val_accuracy: 0.8473\n",
      "Epoch 4/20\n",
      " - 6s - loss: 0.2509 - accuracy: 0.8553 - val_loss: 0.2330 - val_accuracy: 0.8639\n",
      "Epoch 5/20\n",
      " - 6s - loss: 0.2204 - accuracy: 0.8781 - val_loss: 0.2127 - val_accuracy: 0.8892\n",
      "Epoch 6/20\n",
      " - 5s - loss: 0.2059 - accuracy: 0.8925 - val_loss: 0.2027 - val_accuracy: 0.8937\n",
      "Epoch 7/20\n",
      " - 7s - loss: 0.1983 - accuracy: 0.8979 - val_loss: 0.1968 - val_accuracy: 0.8989\n",
      "Epoch 8/20\n",
      " - 6s - loss: 0.1934 - accuracy: 0.9020 - val_loss: 0.1928 - val_accuracy: 0.9024\n",
      "Epoch 9/20\n",
      " - 6s - loss: 0.1899 - accuracy: 0.9045 - val_loss: 0.1897 - val_accuracy: 0.9040\n",
      "Epoch 10/20\n",
      " - 5s - loss: 0.1872 - accuracy: 0.9052 - val_loss: 0.1872 - val_accuracy: 0.9044\n",
      "Epoch 11/20\n",
      " - 6s - loss: 0.1850 - accuracy: 0.9056 - val_loss: 0.1852 - val_accuracy: 0.9049\n",
      "Epoch 12/20\n",
      " - 6s - loss: 0.1831 - accuracy: 0.9059 - val_loss: 0.1834 - val_accuracy: 0.9052\n",
      "Epoch 13/20\n",
      " - 5s - loss: 0.1814 - accuracy: 0.9062 - val_loss: 0.1819 - val_accuracy: 0.9055\n",
      "Epoch 14/20\n",
      " - 5s - loss: 0.1800 - accuracy: 0.9066 - val_loss: 0.1805 - val_accuracy: 0.9058\n",
      "Epoch 15/20\n",
      " - 5s - loss: 0.1787 - accuracy: 0.9069 - val_loss: 0.1793 - val_accuracy: 0.9060\n",
      "Epoch 16/20\n",
      " - 5s - loss: 0.1776 - accuracy: 0.9072 - val_loss: 0.1782 - val_accuracy: 0.9065\n",
      "Epoch 17/20\n",
      " - 6s - loss: 0.1765 - accuracy: 0.9075 - val_loss: 0.1771 - val_accuracy: 0.9064\n",
      "Epoch 18/20\n",
      " - 6s - loss: 0.1756 - accuracy: 0.9076 - val_loss: 0.1762 - val_accuracy: 0.9069\n",
      "Epoch 19/20\n",
      " - 5s - loss: 0.1747 - accuracy: 0.9079 - val_loss: 0.1753 - val_accuracy: 0.9070\n",
      "Epoch 20/20\n",
      " - 5s - loss: 0.1738 - accuracy: 0.9080 - val_loss: 0.1745 - val_accuracy: 0.9071\n"
     ]
    }
   ],
   "source": [
    "# Setup some training parameters\n",
    "batch_size = 10000\n",
    "epochs = 20\n",
    "input_shape = Xtrain.shape[1:]\n",
    "\n",
    "# Build and train model\n",
    "model4 = build_DNN(input_shape=input_shape, \n",
    "                   n_layers=2, \n",
    "                   n_nodes=50,\n",
    "                   act_fun='sigmoid', \n",
    "                   optimizer='sgd', \n",
    "                   learning_rate=0.1, \n",
    "                   use_bn=False, \n",
    "                   use_dropout=False, \n",
    "                   use_custom_dropout=False)\n",
    "\n",
    "history4 = model4.fit(Xtrain, \n",
    "                      Ytrain, \n",
    "                      class_weight=class_weights,\n",
    "                      batch_size=batch_size, \n",
    "                      epochs=epochs,\n",
    "                      verbose=2,\n",
    "                      validation_data=(Xval,Yval))"
   ]
  },
  {
   "cell_type": "code",
   "execution_count": 32,
   "metadata": {},
   "outputs": [
    {
     "name": "stdout",
     "output_type": "stream",
     "text": [
      "114620/114620 [==============================] - 4s 33us/step\n",
      "Test loss: 0.1719\n",
      "Test accuracy: 0.9090\n"
     ]
    }
   ],
   "source": [
    "# Evaluate model on test data\n",
    "score = model4.evaluate(Xtest,Ytest,batch_size=100)\n",
    "\n",
    "print('Test loss: %.4f' % score[0])\n",
    "print('Test accuracy: %.4f' % score[1])"
   ]
  },
  {
   "cell_type": "code",
   "execution_count": 33,
   "metadata": {},
   "outputs": [
    {
     "data": {
      "image/png": "[encoded data removed]",
      "text/plain": [
       "<Figure size 720x288 with 1 Axes>"
      ]
     },
     "metadata": {
      "needs_background": "light"
     },
     "output_type": "display_data"
    },
    {
     "data": {
      "image/png": "[encoded data removed]",
      "text/plain": [
       "<Figure size 720x288 with 1 Axes>"
      ]
     },
     "metadata": {
      "needs_background": "light"
     },
     "output_type": "display_data"
    }
   ],
   "source": [
    "plot_results(history4)"
   ]
  },
  {
   "cell_type": "markdown",
   "metadata": {},
   "source": [
    "### 4 layers, 50 nodes, class weights"
   ]
  },
  {
   "cell_type": "code",
   "execution_count": 34,
   "metadata": {
    "scrolled": true
   },
   "outputs": [
    {
     "name": "stdout",
     "output_type": "stream",
     "text": [
      "Train on 534896 samples, validate on 114621 samples\n",
      "Epoch 1/20\n",
      " - 7s - loss: 0.4463 - accuracy: 0.8408 - val_loss: 0.4404 - val_accuracy: 0.8394\n",
      "Epoch 2/20\n",
      " - 6s - loss: 0.4380 - accuracy: 0.8408 - val_loss: 0.4401 - val_accuracy: 0.8394\n",
      "Epoch 3/20\n",
      " - 6s - loss: 0.4378 - accuracy: 0.8408 - val_loss: 0.4398 - val_accuracy: 0.8394\n",
      "Epoch 4/20\n",
      " - 7s - loss: 0.4375 - accuracy: 0.8408 - val_loss: 0.4396 - val_accuracy: 0.8394\n",
      "Epoch 5/20\n",
      " - 7s - loss: 0.4372 - accuracy: 0.8408 - val_loss: 0.4392 - val_accuracy: 0.8394\n",
      "Epoch 6/20\n",
      " - 6s - loss: 0.4368 - accuracy: 0.8408 - val_loss: 0.4389 - val_accuracy: 0.8394\n",
      "Epoch 7/20\n",
      " - 7s - loss: 0.4364 - accuracy: 0.8408 - val_loss: 0.4385 - val_accuracy: 0.8394\n",
      "Epoch 8/20\n",
      " - 6s - loss: 0.4360 - accuracy: 0.8408 - val_loss: 0.4380 - val_accuracy: 0.8394\n",
      "Epoch 9/20\n",
      " - 6s - loss: 0.4355 - accuracy: 0.8408 - val_loss: 0.4374 - val_accuracy: 0.8394\n",
      "Epoch 10/20\n",
      " - 6s - loss: 0.4349 - accuracy: 0.8408 - val_loss: 0.4368 - val_accuracy: 0.8394\n",
      "Epoch 11/20\n",
      " - 6s - loss: 0.4342 - accuracy: 0.8408 - val_loss: 0.4360 - val_accuracy: 0.8394\n",
      "Epoch 12/20\n",
      " - 7s - loss: 0.4333 - accuracy: 0.8408 - val_loss: 0.4351 - val_accuracy: 0.8394\n",
      "Epoch 13/20\n",
      " - 6s - loss: 0.4323 - accuracy: 0.8408 - val_loss: 0.4338 - val_accuracy: 0.8394\n",
      "Epoch 14/20\n",
      " - 7s - loss: 0.4309 - accuracy: 0.8408 - val_loss: 0.4323 - val_accuracy: 0.8394\n",
      "Epoch 15/20\n",
      " - 6s - loss: 0.4292 - accuracy: 0.8408 - val_loss: 0.4304 - val_accuracy: 0.8394\n",
      "Epoch 16/20\n",
      " - 6s - loss: 0.4270 - accuracy: 0.8408 - val_loss: 0.4279 - val_accuracy: 0.8394\n",
      "Epoch 17/20\n",
      " - 6s - loss: 0.4241 - accuracy: 0.8408 - val_loss: 0.4244 - val_accuracy: 0.8394\n",
      "Epoch 18/20\n",
      " - 6s - loss: 0.4201 - accuracy: 0.8408 - val_loss: 0.4197 - val_accuracy: 0.8394\n",
      "Epoch 19/20\n",
      " - 7s - loss: 0.4144 - accuracy: 0.8408 - val_loss: 0.4129 - val_accuracy: 0.8394\n",
      "Epoch 20/20\n",
      " - 7s - loss: 0.4063 - accuracy: 0.8408 - val_loss: 0.4029 - val_accuracy: 0.8394\n"
     ]
    }
   ],
   "source": [
    "# Setup some training parameters\n",
    "batch_size = 10000\n",
    "epochs = 20\n",
    "input_shape = Xtrain.shape[1:]\n",
    "\n",
    "# Build and train model\n",
    "model5 = build_DNN(input_shape=input_shape, \n",
    "                   n_layers=4, \n",
    "                   n_nodes=50,\n",
    "                   act_fun='sigmoid', \n",
    "                   optimizer='sgd', \n",
    "                   learning_rate=0.1, \n",
    "                   use_bn=False, \n",
    "                   use_dropout=False, \n",
    "                   use_custom_dropout=False)\n",
    "\n",
    "history5 = model5.fit(Xtrain, \n",
    "                      Ytrain, \n",
    "                      class_weight=class_weights,\n",
    "                      batch_size=batch_size, \n",
    "                      epochs=epochs,\n",
    "                      verbose=2,\n",
    "                      validation_data=(Xval,Yval))"
   ]
  },
  {
   "cell_type": "code",
   "execution_count": 35,
   "metadata": {},
   "outputs": [
    {
     "name": "stdout",
     "output_type": "stream",
     "text": [
      "114620/114620 [==============================] - 5s 40us/step\n",
      "Test loss: 0.3982\n",
      "Test accuracy: 0.8425\n"
     ]
    }
   ],
   "source": [
    "# Evaluate model on test data\n",
    "score = model5.evaluate(Xtest,Ytest,batch_size=100)\n",
    "\n",
    "print('Test loss: %.4f' % score[0])\n",
    "print('Test accuracy: %.4f' % score[1])"
   ]
  },
  {
   "cell_type": "code",
   "execution_count": 36,
   "metadata": {},
   "outputs": [
    {
     "data": {
      "image/png": "[encoded data removed]",
      "text/plain": [
       "<Figure size 720x288 with 1 Axes>"
      ]
     },
     "metadata": {
      "needs_background": "light"
     },
     "output_type": "display_data"
    },
    {
     "data": {
      "image/png": "[encoded data removed]",
      "text/plain": [
       "<Figure size 720x288 with 1 Axes>"
      ]
     },
     "metadata": {
      "needs_background": "light"
     },
     "output_type": "display_data"
    },
    {
     "name": "stdout",
     "output_type": "stream",
     "text": [
      "Model: \"sequential_8\"\n",
      "_________________________________________________________________\n",
      "Layer (type)                 Output Shape              Param #   \n",
      "=================================================================\n",
      "dense_24 (Dense)             (None, 50)                4650      \n",
      "_________________________________________________________________\n",
      "dense_25 (Dense)             (None, 50)                2550      \n",
      "_________________________________________________________________\n",
      "dense_26 (Dense)             (None, 50)                2550      \n",
      "_________________________________________________________________\n",
      "dense_27 (Dense)             (None, 50)                2550      \n",
      "_________________________________________________________________\n",
      "dense_28 (Dense)             (None, 1)                 51        \n",
      "=================================================================\n",
      "Total params: 12,351\n",
      "Trainable params: 12,351\n",
      "Non-trainable params: 0\n",
      "_________________________________________________________________\n"
     ]
    }
   ],
   "source": [
    "plot_results(history5)\n",
    "\n",
    "model5.summary()"
   ]
  },
  {
   "cell_type": "markdown",
   "metadata": {},
   "source": [
    "# Part 16: Batch normalization\n",
    "\n",
    "Now add batch normalization after each dense layer. Remember to import BatchNormalization from keras.layers. \n",
    "\n",
    "See https://keras.io/layers/normalization/ for information about how to call the function.\n",
    "\n",
    "**Question 18: Why is batch normalization important when training deep networks?**\n",
    "\n",
    "\n",
    "Batch normalization improves the stability, performance and speed of the DNN"
   ]
  },
  {
   "cell_type": "markdown",
   "metadata": {},
   "source": [
    "### 2 layers, 20 nodes, class weights, batch normalization"
   ]
  },
  {
   "cell_type": "code",
   "execution_count": 39,
   "metadata": {
    "scrolled": true
   },
   "outputs": [
    {
     "name": "stdout",
     "output_type": "stream",
     "text": [
      "Train on 534896 samples, validate on 114621 samples\n",
      "Epoch 1/20\n",
      " - 8s - loss: 0.2960 - accuracy: 0.8882 - val_loss: 0.4276 - val_accuracy: 0.8394\n",
      "Epoch 2/20\n",
      " - 5s - loss: 0.1876 - accuracy: 0.9087 - val_loss: 0.4707 - val_accuracy: 0.8394\n",
      "Epoch 3/20\n",
      " - 5s - loss: 0.1737 - accuracy: 0.9122 - val_loss: 0.4941 - val_accuracy: 0.8394\n",
      "Epoch 4/20\n",
      " - 5s - loss: 0.1679 - accuracy: 0.9143 - val_loss: 0.4977 - val_accuracy: 0.8394\n",
      "Epoch 5/20\n",
      " - 5s - loss: 0.1646 - accuracy: 0.9151 - val_loss: 0.4829 - val_accuracy: 0.8394\n",
      "Epoch 6/20\n",
      " - 5s - loss: 0.1622 - accuracy: 0.9153 - val_loss: 0.4531 - val_accuracy: 0.8394\n",
      "Epoch 7/20\n",
      " - 5s - loss: 0.1606 - accuracy: 0.9156 - val_loss: 0.4127 - val_accuracy: 0.8394\n",
      "Epoch 8/20\n",
      " - 5s - loss: 0.1591 - accuracy: 0.9160 - val_loss: 0.3575 - val_accuracy: 0.8394\n",
      "Epoch 9/20\n",
      " - 5s - loss: 0.1579 - accuracy: 0.9163 - val_loss: 0.2959 - val_accuracy: 0.8395\n",
      "Epoch 10/20\n",
      " - 5s - loss: 0.1569 - accuracy: 0.9166 - val_loss: 0.2388 - val_accuracy: 0.8457\n",
      "Epoch 11/20\n",
      " - 5s - loss: 0.1560 - accuracy: 0.9168 - val_loss: 0.2055 - val_accuracy: 0.8560\n",
      "Epoch 12/20\n",
      " - 5s - loss: 0.1552 - accuracy: 0.9171 - val_loss: 0.1784 - val_accuracy: 0.8726\n",
      "Epoch 13/20\n",
      " - 5s - loss: 0.1545 - accuracy: 0.9174 - val_loss: 0.1634 - val_accuracy: 0.8960\n",
      "Epoch 14/20\n",
      " - 5s - loss: 0.1539 - accuracy: 0.9175 - val_loss: 0.1580 - val_accuracy: 0.9108\n",
      "Epoch 15/20\n",
      " - 5s - loss: 0.1532 - accuracy: 0.9178 - val_loss: 0.1557 - val_accuracy: 0.9153\n",
      "Epoch 16/20\n",
      " - 5s - loss: 0.1525 - accuracy: 0.9182 - val_loss: 0.1532 - val_accuracy: 0.9182\n",
      "Epoch 17/20\n",
      " - 5s - loss: 0.1520 - accuracy: 0.9183 - val_loss: 0.1541 - val_accuracy: 0.9180\n",
      "Epoch 18/20\n",
      " - 5s - loss: 0.1514 - accuracy: 0.9186 - val_loss: 0.1518 - val_accuracy: 0.9188\n",
      "Epoch 19/20\n",
      " - 5s - loss: 0.1509 - accuracy: 0.9189 - val_loss: 0.1514 - val_accuracy: 0.9186\n",
      "Epoch 20/20\n",
      " - 5s - loss: 0.1507 - accuracy: 0.9190 - val_loss: 0.1516 - val_accuracy: 0.9183\n"
     ]
    }
   ],
   "source": [
    "# We want back to modify the original function to incorporate the batch normalization\n",
    "# Setup some training parameters\n",
    "batch_size = 10000\n",
    "epochs = 20\n",
    "input_shape = Xtrain.shape[1:]\n",
    "\n",
    "# Build and train model\n",
    "model6 = build_DNN(input_shape=input_shape, \n",
    "                   n_layers=2, \n",
    "                   n_nodes=20,\n",
    "                   act_fun='sigmoid', \n",
    "                   optimizer='sgd', \n",
    "                   learning_rate=0.1, \n",
    "                   use_bn=True, \n",
    "                   use_dropout=False, \n",
    "                   use_custom_dropout=False)\n",
    "\n",
    "history6 = model6.fit(Xtrain, \n",
    "                      Ytrain, \n",
    "                      class_weight=class_weights,\n",
    "                      batch_size=batch_size, \n",
    "                      epochs=epochs,\n",
    "                      verbose=2,\n",
    "                      validation_data=(Xval,Yval))"
   ]
  },
  {
   "cell_type": "code",
   "execution_count": 40,
   "metadata": {},
   "outputs": [
    {
     "name": "stdout",
     "output_type": "stream",
     "text": [
      "114620/114620 [==============================] - 4s 38us/step\n",
      "Test loss: 0.1500\n",
      "Test accuracy: 0.9182\n"
     ]
    }
   ],
   "source": [
    "# Evaluate model on test data\n",
    "score = model6.evaluate(Xtest,Ytest,batch_size=100)\n",
    "\n",
    "print('Test loss: %.4f' % score[0])\n",
    "print('Test accuracy: %.4f' % score[1])"
   ]
  },
  {
   "cell_type": "code",
   "execution_count": 41,
   "metadata": {},
   "outputs": [
    {
     "data": {
      "image/png": "[encoded data removed]",
      "text/plain": [
       "<Figure size 720x288 with 1 Axes>"
      ]
     },
     "metadata": {
      "needs_background": "light"
     },
     "output_type": "display_data"
    },
    {
     "data": {
      "image/png": "[encoded data removed]",
      "text/plain": [
       "<Figure size 720x288 with 1 Axes>"
      ]
     },
     "metadata": {
      "needs_background": "light"
     },
     "output_type": "display_data"
    }
   ],
   "source": [
    "plot_results(history6)"
   ]
  },
  {
   "cell_type": "markdown",
   "metadata": {},
   "source": [
    "# Part 17: Activation function\n",
    "\n",
    "Try changing the activation function in each layer from sigmoid to ReLU, write down the test accuracy.\n",
    "\n",
    "Note: the last layer should still have a sigmoid activation function."
   ]
  },
  {
   "cell_type": "markdown",
   "metadata": {},
   "source": [
    "### 2 layers, 20 nodes, class weights, ReLU, no batch normalization"
   ]
  },
  {
   "cell_type": "code",
   "execution_count": 43,
   "metadata": {
    "scrolled": true
   },
   "outputs": [
    {
     "name": "stdout",
     "output_type": "stream",
     "text": [
      "Train on 534896 samples, validate on 114621 samples\n",
      "Epoch 1/20\n",
      " - 8s - loss: 0.3130 - accuracy: 0.8837 - val_loss: 0.3156 - val_accuracy: 0.8463\n",
      "Epoch 2/20\n",
      " - 5s - loss: 0.1929 - accuracy: 0.9084 - val_loss: 0.3004 - val_accuracy: 0.8465\n",
      "Epoch 3/20\n",
      " - 5s - loss: 0.1753 - accuracy: 0.9137 - val_loss: 0.2848 - val_accuracy: 0.8472\n",
      "Epoch 4/20\n",
      " - 5s - loss: 0.1678 - accuracy: 0.9158 - val_loss: 0.2438 - val_accuracy: 0.8503\n",
      "Epoch 5/20\n",
      " - 5s - loss: 0.1632 - accuracy: 0.9167 - val_loss: 0.2139 - val_accuracy: 0.8548\n",
      "Epoch 6/20\n",
      " - 4s - loss: 0.1599 - accuracy: 0.9173 - val_loss: 0.1880 - val_accuracy: 0.8652\n",
      "Epoch 7/20\n",
      " - 5s - loss: 0.1576 - accuracy: 0.9177 - val_loss: 0.1719 - val_accuracy: 0.8821\n",
      "Epoch 8/20\n",
      " - 5s - loss: 0.1556 - accuracy: 0.9186 - val_loss: 0.1648 - val_accuracy: 0.8971\n",
      "Epoch 9/20\n",
      " - 5s - loss: 0.1541 - accuracy: 0.9189 - val_loss: 0.1575 - val_accuracy: 0.9130\n",
      "Epoch 10/20\n",
      " - 5s - loss: 0.1517 - accuracy: 0.9193 - val_loss: 0.1522 - val_accuracy: 0.9202\n",
      "Epoch 11/20\n",
      " - 5s - loss: 0.1503 - accuracy: 0.9198 - val_loss: 0.1532 - val_accuracy: 0.9172\n",
      "Epoch 12/20\n",
      " - 5s - loss: 0.1493 - accuracy: 0.9203 - val_loss: 0.1507 - val_accuracy: 0.9205\n",
      "Epoch 13/20\n",
      " - 5s - loss: 0.1482 - accuracy: 0.9208 - val_loss: 0.1505 - val_accuracy: 0.9212\n",
      "Epoch 14/20\n",
      " - 5s - loss: 0.1476 - accuracy: 0.9211 - val_loss: 0.1501 - val_accuracy: 0.9215\n",
      "Epoch 15/20\n",
      " - 5s - loss: 0.1464 - accuracy: 0.9217 - val_loss: 0.1509 - val_accuracy: 0.9159\n",
      "Epoch 16/20\n",
      " - 5s - loss: 0.1457 - accuracy: 0.9223 - val_loss: 0.1473 - val_accuracy: 0.9235\n",
      "Epoch 17/20\n",
      " - 5s - loss: 0.1450 - accuracy: 0.9225 - val_loss: 0.1529 - val_accuracy: 0.9068\n",
      "Epoch 18/20\n",
      " - 5s - loss: 0.1442 - accuracy: 0.9228 - val_loss: 0.1517 - val_accuracy: 0.9118\n",
      "Epoch 19/20\n",
      " - 5s - loss: 0.1433 - accuracy: 0.9232 - val_loss: 0.1443 - val_accuracy: 0.9253\n",
      "Epoch 20/20\n",
      " - 5s - loss: 0.1426 - accuracy: 0.9237 - val_loss: 0.1438 - val_accuracy: 0.9253\n"
     ]
    }
   ],
   "source": [
    "# Setup some training parameters\n",
    "batch_size = 10000\n",
    "epochs = 20\n",
    "input_shape = Xtrain.shape[1:]\n",
    "\n",
    "# Build and train model\n",
    "model7 = build_DNN(input_shape=input_shape, \n",
    "                   n_layers=2, \n",
    "                   n_nodes=20,\n",
    "                   act_fun='relu', \n",
    "                   optimizer='sgd', \n",
    "                   learning_rate=0.1, \n",
    "                   use_bn=True, \n",
    "                   use_dropout=False, \n",
    "                   use_custom_dropout=False)\n",
    "\n",
    "history7 = model7.fit(Xtrain, \n",
    "                      Ytrain, \n",
    "                      class_weight=class_weights,\n",
    "                      batch_size=batch_size, \n",
    "                      epochs=epochs,\n",
    "                      verbose=2,\n",
    "                      validation_data=(Xval,Yval))"
   ]
  },
  {
   "cell_type": "code",
   "execution_count": 44,
   "metadata": {},
   "outputs": [
    {
     "name": "stdout",
     "output_type": "stream",
     "text": [
      "114620/114620 [==============================] - 4s 36us/step\n",
      "Test loss: 0.1428\n",
      "Test accuracy: 0.9254\n"
     ]
    }
   ],
   "source": [
    "# Evaluate model on test data\n",
    "score = model7.evaluate(Xtest,Ytest,batch_size=100)\n",
    "\n",
    "print('Test loss: %.4f' % score[0])\n",
    "print('Test accuracy: %.4f' % score[1])"
   ]
  },
  {
   "cell_type": "code",
   "execution_count": 45,
   "metadata": {},
   "outputs": [
    {
     "data": {
      "image/png": "[encoded data removed]",
      "text/plain": [
       "<Figure size 720x288 with 1 Axes>"
      ]
     },
     "metadata": {
      "needs_background": "light"
     },
     "output_type": "display_data"
    },
    {
     "data": {
      "image/png": "[encoded data removed]",
      "text/plain": [
       "<Figure size 720x288 with 1 Axes>"
      ]
     },
     "metadata": {
      "needs_background": "light"
     },
     "output_type": "display_data"
    }
   ],
   "source": [
    "plot_results(history7)"
   ]
  },
  {
   "cell_type": "markdown",
   "metadata": {},
   "source": [
    "# Part 18: Optimizer\n",
    "\n",
    "Try changing the optimizer from SGD to Adam (with learning rate 0.1 as before). Remember to import the Adam optimizer from keras.optimizers. \n",
    "\n",
    "https://keras.io/optimizers/\n"
   ]
  },
  {
   "cell_type": "markdown",
   "metadata": {},
   "source": [
    "### 2 layers, 20 nodes, class weights, Adam optimizer, no batch normalization, sigmoid activations"
   ]
  },
  {
   "cell_type": "code",
   "execution_count": 48,
   "metadata": {
    "scrolled": true
   },
   "outputs": [
    {
     "name": "stdout",
     "output_type": "stream",
     "text": [
      "Train on 534896 samples, validate on 114621 samples\n",
      "Epoch 1/20\n",
      " - 8s - loss: 0.2228 - accuracy: 0.8797 - val_loss: 0.7996 - val_accuracy: 0.8394\n",
      "Epoch 2/20\n",
      " - 5s - loss: 0.1590 - accuracy: 0.9153 - val_loss: 0.8020 - val_accuracy: 0.8394\n",
      "Epoch 3/20\n",
      " - 5s - loss: 0.1566 - accuracy: 0.9159 - val_loss: 0.7380 - val_accuracy: 0.8394\n",
      "Epoch 4/20\n",
      " - 5s - loss: 0.1544 - accuracy: 0.9166 - val_loss: 0.5395 - val_accuracy: 0.8394\n",
      "Epoch 5/20\n",
      " - 5s - loss: 0.1507 - accuracy: 0.9186 - val_loss: 0.4421 - val_accuracy: 0.8420\n",
      "Epoch 6/20\n",
      " - 5s - loss: 0.1472 - accuracy: 0.9184 - val_loss: 0.4123 - val_accuracy: 0.8430\n",
      "Epoch 7/20\n",
      " - 5s - loss: 0.1435 - accuracy: 0.9171 - val_loss: 0.2980 - val_accuracy: 0.8467\n",
      "Epoch 8/20\n",
      " - 5s - loss: 0.1423 - accuracy: 0.9172 - val_loss: 0.2368 - val_accuracy: 0.8644\n",
      "Epoch 9/20\n",
      " - 5s - loss: 0.1442 - accuracy: 0.9163 - val_loss: 0.1651 - val_accuracy: 0.8690\n",
      "Epoch 10/20\n",
      " - 5s - loss: 0.1402 - accuracy: 0.9179 - val_loss: 0.1435 - val_accuracy: 0.9029\n",
      "Epoch 11/20\n",
      " - 5s - loss: 0.1384 - accuracy: 0.9178 - val_loss: 0.1415 - val_accuracy: 0.9205\n",
      "Epoch 12/20\n",
      " - 5s - loss: 0.1373 - accuracy: 0.9181 - val_loss: 0.1644 - val_accuracy: 0.8878\n",
      "Epoch 13/20\n",
      " - 5s - loss: 0.1364 - accuracy: 0.9189 - val_loss: 0.1428 - val_accuracy: 0.9035\n",
      "Epoch 14/20\n",
      " - 5s - loss: 0.1359 - accuracy: 0.9198 - val_loss: 0.1518 - val_accuracy: 0.9199\n",
      "Epoch 15/20\n",
      " - 5s - loss: 0.1359 - accuracy: 0.9185 - val_loss: 0.1346 - val_accuracy: 0.9210\n",
      "Epoch 16/20\n",
      " - 5s - loss: 0.1342 - accuracy: 0.9205 - val_loss: 0.1433 - val_accuracy: 0.9269\n",
      "Epoch 17/20\n",
      " - 5s - loss: 0.1331 - accuracy: 0.9243 - val_loss: 0.1315 - val_accuracy: 0.9263\n",
      "Epoch 18/20\n",
      " - 5s - loss: 0.1311 - accuracy: 0.9266 - val_loss: 0.1406 - val_accuracy: 0.9289\n",
      "Epoch 19/20\n",
      " - 5s - loss: 0.1314 - accuracy: 0.9269 - val_loss: 0.1369 - val_accuracy: 0.9102\n",
      "Epoch 20/20\n",
      " - 5s - loss: 0.1295 - accuracy: 0.9267 - val_loss: 0.1308 - val_accuracy: 0.9305\n"
     ]
    }
   ],
   "source": [
    "# again, went back to improve the model function\n",
    "# Setup some training parameters\n",
    "batch_size = 10000\n",
    "epochs = 20\n",
    "input_shape = Xtrain.shape[1:]\n",
    "\n",
    "# Build and train model\n",
    "model8 = build_DNN(input_shape=input_shape, \n",
    "                   n_layers=2, \n",
    "                   n_nodes=20,\n",
    "                   act_fun='sigmoid', \n",
    "                   optimizer='adam', \n",
    "                   learning_rate=0.1, \n",
    "                   use_bn=True, \n",
    "                   use_dropout=False, \n",
    "                   use_custom_dropout=False)\n",
    "\n",
    "history8 = model8.fit(Xtrain, \n",
    "                      Ytrain, \n",
    "                      class_weight=class_weights,\n",
    "                      batch_size=batch_size, \n",
    "                      epochs=epochs,\n",
    "                      verbose=2,\n",
    "                      validation_data=(Xval,Yval))"
   ]
  },
  {
   "cell_type": "code",
   "execution_count": 49,
   "metadata": {},
   "outputs": [
    {
     "name": "stdout",
     "output_type": "stream",
     "text": [
      "114620/114620 [==============================] - 4s 36us/step\n",
      "Test loss: 0.1286\n",
      "Test accuracy: 0.9314\n"
     ]
    }
   ],
   "source": [
    "# Evaluate model on test data\n",
    "score = model8.evaluate(Xtest,Ytest,batch_size=100)\n",
    "\n",
    "print('Test loss: %.4f' % score[0])\n",
    "print('Test accuracy: %.4f' % score[1])"
   ]
  },
  {
   "cell_type": "code",
   "execution_count": 50,
   "metadata": {},
   "outputs": [
    {
     "data": {
      "image/png": "[encoded data removed]",
      "text/plain": [
       "<Figure size 720x288 with 1 Axes>"
      ]
     },
     "metadata": {
      "needs_background": "light"
     },
     "output_type": "display_data"
    },
    {
     "data": {
      "image/png": "[encoded data removed]",
      "text/plain": [
       "<Figure size 720x288 with 1 Axes>"
      ]
     },
     "metadata": {
      "needs_background": "light"
     },
     "output_type": "display_data"
    }
   ],
   "source": [
    "plot_results(history8)"
   ]
  },
  {
   "cell_type": "markdown",
   "metadata": {},
   "source": [
    "# Part 19: Dropout regularization\n",
    "\n",
    "Dropout is a type of regularization that can improve accuracy for validation and test data. \n",
    "\n",
    "Add a Dropout layer after each Dense layer (but not after the final dense layer), with a dropout probability of 50%. Remember to first import the Dropout layer from keras.layers\n",
    "\n",
    "See https://keras.io/layers/core/ for how the Dropout layer works.\n",
    "\n",
    "---\n",
    "\n",
    "**Question 19: How does the validation accuracy change when adding dropout?**\n",
    "\n",
    "\n",
    "With dropout: val_accuracy: 0.9062 (model9)     \n",
    "Without dropout: val_accuracy: 0.9075 (model2)\n",
    "\n",
    "**Question 20: How does the test accuracy change when adding dropout?**\n",
    "\n",
    "\n",
    "With dropout: Test accuracy: 0.9079 (model9)     \n",
    "Without dropout: Test accuracy: 0.9091 (model2)\n"
   ]
  },
  {
   "cell_type": "markdown",
   "metadata": {},
   "source": [
    "### 2 layers, 20 nodes, class weights, dropout, SGD optimizer, no batch normalization, sigmoid activations"
   ]
  },
  {
   "cell_type": "code",
   "execution_count": 12,
   "metadata": {
    "scrolled": true
   },
   "outputs": [
    {
     "name": "stdout",
     "output_type": "stream",
     "text": [
      "WARNING:tensorflow:From C:\\Users\\joris\\Anaconda3\\lib\\site-packages\\tensorflow\\python\\ops\\math_ops.py:3066: to_int32 (from tensorflow.python.ops.math_ops) is deprecated and will be removed in a future version.\n",
      "Instructions for updating:\n",
      "Use tf.cast instead.\n",
      "Train on 534896 samples, validate on 114621 samples\n",
      "Epoch 1/20\n",
      " - 4s - loss: 0.4644 - accuracy: 0.8323 - val_loss: 0.4127 - val_accuracy: 0.8399\n",
      "Epoch 2/20\n",
      " - 3s - loss: 0.4224 - accuracy: 0.8401 - val_loss: 0.3824 - val_accuracy: 0.8399\n",
      "Epoch 3/20\n",
      " - 3s - loss: 0.3891 - accuracy: 0.8412 - val_loss: 0.3475 - val_accuracy: 0.8399\n",
      "Epoch 4/20\n",
      " - 3s - loss: 0.3536 - accuracy: 0.8427 - val_loss: 0.3086 - val_accuracy: 0.8399\n",
      "Epoch 5/20\n",
      " - 3s - loss: 0.3188 - accuracy: 0.8467 - val_loss: 0.2718 - val_accuracy: 0.8399\n",
      "Epoch 6/20\n",
      " - 3s - loss: 0.2886 - accuracy: 0.8533 - val_loss: 0.2434 - val_accuracy: 0.8399\n",
      "Epoch 7/20\n",
      " - 3s - loss: 0.2666 - accuracy: 0.8588 - val_loss: 0.2243 - val_accuracy: 0.8458\n",
      "Epoch 8/20\n",
      " - 3s - loss: 0.2511 - accuracy: 0.8640 - val_loss: 0.2120 - val_accuracy: 0.8609\n",
      "Epoch 9/20\n",
      " - 3s - loss: 0.2408 - accuracy: 0.8664 - val_loss: 0.2043 - val_accuracy: 0.8807\n",
      "Epoch 10/20\n",
      " - 3s - loss: 0.2326 - accuracy: 0.8695 - val_loss: 0.1989 - val_accuracy: 0.8857\n",
      "Epoch 11/20\n",
      " - 3s - loss: 0.2264 - accuracy: 0.8715 - val_loss: 0.1951 - val_accuracy: 0.8957\n",
      "Epoch 12/20\n",
      " - 3s - loss: 0.2217 - accuracy: 0.8727 - val_loss: 0.1923 - val_accuracy: 0.9035\n",
      "Epoch 13/20\n",
      " - 3s - loss: 0.2170 - accuracy: 0.8753 - val_loss: 0.1900 - val_accuracy: 0.9050\n",
      "Epoch 14/20\n",
      " - 3s - loss: 0.2134 - accuracy: 0.8765 - val_loss: 0.1883 - val_accuracy: 0.9052\n",
      "Epoch 15/20\n",
      " - 3s - loss: 0.2108 - accuracy: 0.8771 - val_loss: 0.1868 - val_accuracy: 0.9052\n",
      "Epoch 16/20\n",
      " - 3s - loss: 0.2083 - accuracy: 0.8783 - val_loss: 0.1855 - val_accuracy: 0.9052\n",
      "Epoch 17/20\n",
      " - 3s - loss: 0.2057 - accuracy: 0.8795 - val_loss: 0.1843 - val_accuracy: 0.9051\n",
      "Epoch 18/20\n",
      " - 3s - loss: 0.2038 - accuracy: 0.8804 - val_loss: 0.1834 - val_accuracy: 0.9053\n",
      "Epoch 19/20\n",
      " - 3s - loss: 0.2019 - accuracy: 0.8809 - val_loss: 0.1825 - val_accuracy: 0.9051\n",
      "Epoch 20/20\n",
      " - 3s - loss: 0.2001 - accuracy: 0.8823 - val_loss: 0.1816 - val_accuracy: 0.9050\n"
     ]
    }
   ],
   "source": [
    "# Setup some training parameters\n",
    "batch_size = 10000\n",
    "epochs = 20\n",
    "input_shape = Xtrain.shape[1:]\n",
    "\n",
    "# Build and train model\n",
    "model9 = build_DNN(input_shape=input_shape, \n",
    "                   n_layers=2, \n",
    "                   n_nodes=20,\n",
    "                   act_fun='sigmoid', \n",
    "                   optimizer='sgd', \n",
    "                   learning_rate=0.1, \n",
    "                   use_bn=False, \n",
    "                   use_dropout=True, \n",
    "                   use_custom_dropout=False)\n",
    "\n",
    "history9 = model9.fit(Xtrain, \n",
    "                      Ytrain, \n",
    "                      class_weight=class_weights,\n",
    "                      batch_size=batch_size, \n",
    "                      epochs=epochs,\n",
    "                      verbose=2,\n",
    "                      validation_data=(Xval,Yval))"
   ]
  },
  {
   "cell_type": "code",
   "execution_count": 53,
   "metadata": {},
   "outputs": [
    {
     "name": "stdout",
     "output_type": "stream",
     "text": [
      "114620/114620 [==============================] - 4s 38us/step\n",
      "Test loss: 0.1776\n",
      "Test accuracy: 0.9079\n"
     ]
    }
   ],
   "source": [
    "# Evaluate model on test data\n",
    "score = model9.evaluate(Xtest,Ytest,batch_size=100)\n",
    "\n",
    "print('Test loss: %.4f' % score[0])\n",
    "print('Test accuracy: %.4f' % score[1])"
   ]
  },
  {
   "cell_type": "code",
   "execution_count": 54,
   "metadata": {},
   "outputs": [
    {
     "data": {
      "image/png": "[encoded data removed]",
      "text/plain": [
       "<Figure size 720x288 with 1 Axes>"
      ]
     },
     "metadata": {
      "needs_background": "light"
     },
     "output_type": "display_data"
    },
    {
     "data": {
      "image/png": "[encoded data removed]",
      "text/plain": [
       "<Figure size 720x288 with 1 Axes>"
      ]
     },
     "metadata": {
      "needs_background": "light"
     },
     "output_type": "display_data"
    }
   ],
   "source": [
    "plot_results(history9)"
   ]
  },
  {
   "cell_type": "markdown",
   "metadata": {},
   "source": [
    "# Part 20: Improving performance\n",
    "\n",
    "Spend some time (30 - 90 minutes) playing with the network architecture (number of layers, number of nodes per layer, activation function) and other hyper parameters (optimizer, learning rate, batch size, number of epochs, degree of regularization). For example, try a much deeper network. How much does the training time increase for a network with 10 layers?\n",
    "\n",
    "Question 21: How high classification accuracy can you achieve for the test data? What is your best configuration?"
   ]
  },
  {
   "cell_type": "code",
   "execution_count": 13,
   "metadata": {
    "scrolled": true
   },
   "outputs": [
    {
     "name": "stdout",
     "output_type": "stream",
     "text": [
      "Train on 534896 samples, validate on 114621 samples\n",
      "Epoch 1/20\n",
      " - 5s - loss: 0.2067 - accuracy: 0.8962 - val_loss: 0.3231 - val_accuracy: 0.9123\n",
      "Epoch 2/20\n",
      " - 3s - loss: 0.1632 - accuracy: 0.9095 - val_loss: 0.2189 - val_accuracy: 0.9149\n",
      "Epoch 3/20\n",
      " - 3s - loss: 0.1551 - accuracy: 0.9147 - val_loss: 0.1542 - val_accuracy: 0.9184\n",
      "Epoch 4/20\n",
      " - 3s - loss: 0.1514 - accuracy: 0.9184 - val_loss: 0.1472 - val_accuracy: 0.9223\n",
      "Epoch 5/20\n",
      " - 3s - loss: 0.1502 - accuracy: 0.9189 - val_loss: 0.1450 - val_accuracy: 0.9229\n",
      "Epoch 6/20\n",
      " - 3s - loss: 0.1471 - accuracy: 0.9214 - val_loss: 0.1428 - val_accuracy: 0.9268\n",
      "Epoch 7/20\n",
      " - 3s - loss: 0.1443 - accuracy: 0.9224 - val_loss: 0.1418 - val_accuracy: 0.9252\n",
      "Epoch 8/20\n",
      " - 3s - loss: 0.1432 - accuracy: 0.9234 - val_loss: 0.1465 - val_accuracy: 0.9118\n",
      "Epoch 9/20\n",
      " - 3s - loss: 0.1413 - accuracy: 0.9246 - val_loss: 0.1439 - val_accuracy: 0.9160\n",
      "Epoch 10/20\n",
      " - 3s - loss: 0.1394 - accuracy: 0.9260 - val_loss: 0.1595 - val_accuracy: 0.9210\n",
      "Epoch 11/20\n",
      " - 3s - loss: 0.1404 - accuracy: 0.9248 - val_loss: 0.1367 - val_accuracy: 0.9254\n",
      "Epoch 12/20\n",
      " - 3s - loss: 0.1363 - accuracy: 0.9279 - val_loss: 0.1590 - val_accuracy: 0.8941\n",
      "Epoch 13/20\n",
      " - 3s - loss: 0.1353 - accuracy: 0.9285 - val_loss: 0.1360 - val_accuracy: 0.9281\n",
      "Epoch 14/20\n",
      " - 3s - loss: 0.1351 - accuracy: 0.9286 - val_loss: 0.1327 - val_accuracy: 0.9288\n",
      "Epoch 15/20\n",
      " - 3s - loss: 0.1336 - accuracy: 0.9295 - val_loss: 0.1324 - val_accuracy: 0.9321\n",
      "Epoch 16/20\n",
      " - 3s - loss: 0.1338 - accuracy: 0.9287 - val_loss: 0.1279 - val_accuracy: 0.9328\n",
      "Epoch 17/20\n",
      " - 3s - loss: 0.1317 - accuracy: 0.9314 - val_loss: 0.1314 - val_accuracy: 0.9180\n",
      "Epoch 18/20\n",
      " - 3s - loss: 0.1345 - accuracy: 0.9284 - val_loss: 0.1284 - val_accuracy: 0.9287\n",
      "Epoch 19/20\n",
      " - 3s - loss: 0.1312 - accuracy: 0.9308 - val_loss: 0.1304 - val_accuracy: 0.9280\n",
      "Epoch 20/20\n",
      " - 3s - loss: 0.1304 - accuracy: 0.9316 - val_loss: 0.1283 - val_accuracy: 0.9308\n"
     ]
    }
   ],
   "source": [
    "# Find your best configuration for the DNN\n",
    "'''\n",
    "Let's start by reviewing the models that we've created before:\n",
    "model1\n",
    "loss: 0.1722 - accuracy: 0.9086 - val_loss: 0.1727 - val_accuracy: 0.9080\n",
    "Test loss: 0.1711\n",
    "Test accuracy: 0.9089\n",
    "model2\n",
    "loss: 0.1728 - accuracy: 0.9086 - val_loss: 0.1733 - val_accuracy: 0.9075\n",
    "Test loss: 0.1711\n",
    "Test accuracy: 0.9091\n",
    "model3\n",
    "loss: 0.4244 - accuracy: 0.8408 - val_loss: 0.4250 - val_accuracy: 0.8394\n",
    "Test loss: 0.4199\n",
    "Test accuracy: 0.8425\n",
    "model4\n",
    "loss: 0.1738 - accuracy: 0.9080 - val_loss: 0.1745 - val_accuracy: 0.9071\n",
    "Test loss: 0.1719\n",
    "Test accuracy: 0.9090\n",
    "model5\n",
    "loss: 0.4063 - accuracy: 0.8408 - val_loss: 0.4029 - val_accuracy: 0.8394\n",
    "Test loss: 0.3982\n",
    "Test accuracy: 0.8425\n",
    "model6\n",
    "loss: 0.1507 - accuracy: 0.9190 - val_loss: 0.1516 - val_accuracy: 0.9183\n",
    "Test loss: 0.1500\n",
    "Test accuracy: 0.9182\n",
    "model7\n",
    "loss: 0.1426 - accuracy: 0.9237 - val_loss: 0.1438 - val_accuracy: 0.9253\n",
    "Test loss: 0.1428\n",
    "Test accuracy: 0.9254\n",
    "model8\n",
    "loss: 0.1295 - accuracy: 0.9267 - val_loss: 0.1308 - val_accuracy: 0.9305\n",
    "Test loss: 0.1286\n",
    "Test accuracy: 0.9314\n",
    "model9:\n",
    "loss: 0.2006 - accuracy: 0.8832 - val_loss: 0.1799 - val_accuracy: 0.9062\n",
    "Test loss: 0.1776\n",
    "Test accuracy: 0.9079\n",
    "\n",
    "\n",
    "'''\n",
    "\n",
    "batch_size = 10000\n",
    "epochs = 20\n",
    "input_shape = Xtrain.shape[1:]\n",
    "\n",
    "# Build and train DNN\n",
    "model10 = build_DNN(input_shape=input_shape, \n",
    "                   n_layers=2, \n",
    "                   n_nodes=20,\n",
    "                   act_fun='relu', \n",
    "                   optimizer='adam', \n",
    "                   learning_rate=0.1, \n",
    "                   use_bn=True, \n",
    "                   use_dropout=True, \n",
    "                   use_custom_dropout=False)\n",
    "\n",
    "history10 = model10.fit(Xtrain, \n",
    "                      Ytrain, \n",
    "                      class_weight=class_weights,\n",
    "                      batch_size=batch_size, \n",
    "                      epochs=epochs,\n",
    "                      verbose=2,\n",
    "                      validation_data=(Xval,Yval))"
   ]
  },
  {
   "cell_type": "code",
   "execution_count": 60,
   "metadata": {},
   "outputs": [
    {
     "name": "stdout",
     "output_type": "stream",
     "text": [
      "114620/114620 [==============================] - 5s 43us/step\n",
      "Test loss: 0.1351\n",
      "Test accuracy: 0.9296\n"
     ]
    },
    {
     "data": {
      "text/plain": [
       "'\\nmodel_10_layers:\\nloss: 0.4403 - accuracy: 0.8408 - val_loss: 0.4406 - val_accuracy: 0.8394\\nTest loss: 0.4355\\nTest accuracy: 0.8425\\nmodel_relu_adam_bn:\\nloss: 0.1176 - accuracy: 0.9351 - val_loss: 0.1298 - val_accuracy: 0.9324\\nTest loss: 0.1274\\nTest accuracy: 0.9330\\nmodel_relu_adam_bn_dropout:\\nloss: 0.1346 - accuracy: 0.9288 - val_loss: 0.1364 - val_accuracy: 0.9295\\n\\n'"
      ]
     },
     "execution_count": 60,
     "metadata": {},
     "output_type": "execute_result"
    }
   ],
   "source": [
    "# Evaluate DNN on test data\n",
    "score = model10.evaluate(Xtest,Ytest,batch_size=100)\n",
    "\n",
    "print('Test loss: %.4f' % score[0])\n",
    "print('Test accuracy: %.4f' % score[1])\n",
    "\n",
    "'''\n",
    "model_10_layers:\n",
    "loss: 0.4403 - accuracy: 0.8408 - val_loss: 0.4406 - val_accuracy: 0.8394\n",
    "Test loss: 0.4355\n",
    "Test accuracy: 0.8425\n",
    "model_relu_adam_bn:\n",
    "loss: 0.1176 - accuracy: 0.9351 - val_loss: 0.1298 - val_accuracy: 0.9324\n",
    "Test loss: 0.1274\n",
    "Test accuracy: 0.9330\n",
    "model_relu_adam_bn_dropout:\n",
    "loss: 0.1346 - accuracy: 0.9288 - val_loss: 0.1364 - val_accuracy: 0.9295\n",
    "Test loss: 0.1351\n",
    "Test accuracy: 0.9296\n",
    "We will proceed with batch size 10000, epochs 20, nodes 20, layers 2, relu activation, adam optimizer, learning rate 0.1, and batch normalization\n",
    "'''"
   ]
  },
  {
   "cell_type": "markdown",
   "metadata": {},
   "source": [
    "# Part 21: Dropout uncertainty\n",
    "\n",
    "Dropout can also be used during testing, to obtain an estimate of the model uncertainty. Since dropout will randomly remove connections, the network will produce different results every time the same (test) data is put into the network. This technique is called Monte Carlo dropout. For more information, see this paper http://proceedings.mlr.press/v48/gal16.pdf\n",
    "\n",
    "To achieve this, we need to redefine the Keras Dropout call by running the cell below, and use 'myDropout' in each call to Dropout, in the cell that defines the DNN.\n",
    "\n",
    "Run the same test data through the trained network 100 times, with dropout turned on. \n",
    "\n",
    "**Question 22: What is the mean and the standard deviation of the test accuracy?**\n",
    "\n",
    "\n",
    "We unfortunately get a NameError, saying K is not defined. We therefore can not present the mean and standard deviation of the test accuracy right now, but we provided the code of how we would calculate it."
   ]
  },
  {
   "cell_type": "code",
   "execution_count": 44,
   "metadata": {},
   "outputs": [],
   "source": [
    "import keras\n",
    "\n",
    "class myDropout(keras.layers.Dropout):\n",
    "    \"\"\"Applies Dropout to the input.\n",
    "    Dropout consists in randomly setting\n",
    "    a fraction `rate` of input units to 0 at each update during training time,\n",
    "    which helps prevent overfitting.\n",
    "    # Arguments\n",
    "        rate: float between 0 and 1. Fraction of the input units to drop.\n",
    "        noise_shape: 1D integer tensor representing the shape of the\n",
    "            binary dropout mask that will be multiplied with the input.\n",
    "            For instance, if your inputs have shape\n",
    "            `(batch_size, timesteps, features)` and\n",
    "            you want the dropout mask to be the same for all timesteps,\n",
    "            you can use `noise_shape=(batch_size, 1, features)`.\n",
    "        seed: A Python integer to use as random seed.\n",
    "    # References\n",
    "        - [Dropout: A Simple Way to Prevent Neural Networks from Overfitting](\n",
    "           http://www.jmlr.org/papers/volume15/srivastava14a/srivastava14a.pdf)\n",
    "    \"\"\"\n",
    "    def __init__(self, rate, training=True, noise_shape=None, seed=None, **kwargs):\n",
    "        super(myDropout, self).__init__(rate, noise_shape=None, seed=None,**kwargs)\n",
    "        self.training = training\n",
    "\n",
    "        \n",
    "    def call(self, inputs, training=None):\n",
    "        if 0. < self.rate < 1.:\n",
    "            noise_shape = self._get_noise_shape(inputs)\n",
    "\n",
    "            def dropped_inputs():\n",
    "                return K.dropout(inputs, self.rate, noise_shape,\n",
    "                                 seed=self.seed)\n",
    "            if not training: \n",
    "                return K.in_train_phase(dropped_inputs, inputs, training=self.training)\n",
    "            return K.in_train_phase(dropped_inputs, inputs, training=training)\n",
    "        return inputs"
   ]
  },
  {
   "cell_type": "markdown",
   "metadata": {},
   "source": [
    "### Your best config, custom dropout"
   ]
  },
  {
   "cell_type": "code",
   "execution_count": 69,
   "metadata": {
    "scrolled": true
   },
   "outputs": [
    {
     "name": "stdout",
     "output_type": "stream",
     "text": [
      "Train on 534896 samples, validate on 114621 samples\n",
      "Epoch 1/20\n",
      " - 1s - loss: 0.2121 - accuracy: 0.8870 - val_loss: 0.5315 - val_accuracy: 0.8987\n",
      "Epoch 2/20\n",
      " - 1s - loss: 0.1604 - accuracy: 0.9136 - val_loss: 0.2246 - val_accuracy: 0.9113\n",
      "Epoch 3/20\n",
      " - 1s - loss: 0.1570 - accuracy: 0.9153 - val_loss: 0.1650 - val_accuracy: 0.9174\n",
      "Epoch 4/20\n",
      " - 1s - loss: 0.1510 - accuracy: 0.9180 - val_loss: 0.1564 - val_accuracy: 0.9192\n",
      "Epoch 5/20\n",
      " - 1s - loss: 0.1478 - accuracy: 0.9193 - val_loss: 0.1491 - val_accuracy: 0.9199\n",
      "Epoch 6/20\n",
      " - 1s - loss: 0.1456 - accuracy: 0.9212 - val_loss: 0.1534 - val_accuracy: 0.9011\n",
      "Epoch 7/20\n",
      " - 1s - loss: 0.1438 - accuracy: 0.9227 - val_loss: 0.1422 - val_accuracy: 0.9242\n",
      "Epoch 8/20\n",
      " - 1s - loss: 0.1422 - accuracy: 0.9233 - val_loss: 0.1407 - val_accuracy: 0.9237\n",
      "Epoch 9/20\n",
      " - 1s - loss: 0.1392 - accuracy: 0.9250 - val_loss: 0.1425 - val_accuracy: 0.9260\n",
      "Epoch 10/20\n",
      " - 1s - loss: 0.1386 - accuracy: 0.9254 - val_loss: 0.1667 - val_accuracy: 0.8943\n",
      "Epoch 11/20\n",
      " - 1s - loss: 0.1374 - accuracy: 0.9263 - val_loss: 0.1340 - val_accuracy: 0.9330\n",
      "Epoch 12/20\n",
      " - 1s - loss: 0.1319 - accuracy: 0.9296 - val_loss: 0.1374 - val_accuracy: 0.9198\n",
      "Epoch 13/20\n",
      " - 1s - loss: 0.1329 - accuracy: 0.9283 - val_loss: 0.1304 - val_accuracy: 0.9262\n",
      "Epoch 14/20\n",
      " - 1s - loss: 0.1287 - accuracy: 0.9310 - val_loss: 0.1320 - val_accuracy: 0.9258\n",
      "Epoch 15/20\n",
      " - 1s - loss: 0.1268 - accuracy: 0.9326 - val_loss: 0.1819 - val_accuracy: 0.8910\n",
      "Epoch 16/20\n",
      " - 1s - loss: 0.1245 - accuracy: 0.9335 - val_loss: 0.1342 - val_accuracy: 0.9208\n",
      "Epoch 17/20\n",
      " - 1s - loss: 0.1234 - accuracy: 0.9341 - val_loss: 0.1609 - val_accuracy: 0.9059\n",
      "Epoch 18/20\n",
      " - 1s - loss: 0.1243 - accuracy: 0.9331 - val_loss: 0.1224 - val_accuracy: 0.9377\n",
      "Epoch 19/20\n",
      " - 1s - loss: 0.1224 - accuracy: 0.9350 - val_loss: 0.1244 - val_accuracy: 0.9291\n",
      "Epoch 20/20\n",
      " - 1s - loss: 0.1223 - accuracy: 0.9344 - val_loss: 0.1278 - val_accuracy: 0.9341\n"
     ]
    }
   ],
   "source": [
    "# Your best training parameters\n",
    "batch_size = 10000\n",
    "epochs = 20\n",
    "input_shape = Xtrain.shape[1:]\n",
    "\n",
    "# Build and train DNN\n",
    "model11 = build_DNN(input_shape=input_shape, \n",
    "                   n_layers=2, \n",
    "                   n_nodes=20,\n",
    "                   act_fun='relu', \n",
    "                   optimizer='adam', \n",
    "                   learning_rate=0.1, \n",
    "                   use_bn=True, \n",
    "                   use_dropout=False, \n",
    "                   use_custom_dropout=True)\n",
    "\n",
    "history11 = model11.fit(Xtrain, \n",
    "                      Ytrain, \n",
    "                      class_weight=class_weights,\n",
    "                      batch_size=batch_size, \n",
    "                      epochs=epochs,\n",
    "                      verbose=2,\n",
    "                      validation_data=(Xval,Yval)) "
   ]
  },
  {
   "cell_type": "code",
   "execution_count": 46,
   "metadata": {},
   "outputs": [
    {
     "name": "stdout",
     "output_type": "stream",
     "text": [
      "114620/114620 [==============================] - 1s 7us/step\n",
      "Test accuracy: 0.9362\n"
     ]
    }
   ],
   "source": [
    "# Run this cell a few times to evalute the model on test data, \n",
    "# if you get slightly different test accuracy every time, Dropout during testing is working\n",
    "\n",
    "# Evaluate model on test data\n",
    "score = model11.evaluate(Xtest,Ytest,batch_size=100)\n",
    "                       \n",
    "print('Test accuracy: %.4f' % score[1])"
   ]
  },
  {
   "cell_type": "code",
   "execution_count": 115,
   "metadata": {},
   "outputs": [
    {
     "name": "stdout",
     "output_type": "stream",
     "text": [
      "114620/114620 [==============================] - 4s 36us/step\n",
      "114620/114620 [==============================] - 4s 34us/step\n",
      "114620/114620 [==============================] - 4s 31us/step\n",
      "114620/114620 [==============================] - 3s 28us/step\n",
      "114620/114620 [==============================] - 3s 29us/step\n",
      "114620/114620 [==============================] - 3s 28us/step\n",
      "114620/114620 [==============================] - 3s 28us/step\n",
      "114620/114620 [==============================] - 3s 29us/step\n",
      "114620/114620 [==============================] - 3s 30us/step\n",
      "114620/114620 [==============================] - 3s 30us/step\n",
      "114620/114620 [==============================] - 4s 31us/step\n",
      "114620/114620 [==============================] - 3s 30us/step\n",
      "114620/114620 [==============================] - 4s 31us/step\n",
      "114620/114620 [==============================] - 4s 33us/step\n",
      "114620/114620 [==============================] - 5s 40us/step\n",
      "114620/114620 [==============================] - 4s 36us/step\n",
      "114620/114620 [==============================] - 4s 36us/step\n",
      "114620/114620 [==============================] - 3s 30us/step\n",
      "114620/114620 [==============================] - 4s 35us/step\n",
      "114620/114620 [==============================] - 4s 31us/step\n",
      "114620/114620 [==============================] - 3s 30us/step\n",
      "114620/114620 [==============================] - 4s 32us/step\n",
      "114620/114620 [==============================] - 4s 32us/step\n",
      "114620/114620 [==============================] - 4s 37us/step\n",
      "114620/114620 [==============================] - 4s 34us/step\n",
      "114620/114620 [==============================] - 4s 36us/step\n",
      "114620/114620 [==============================] - 4s 33us/step\n",
      "114620/114620 [==============================] - 5s 40us/step\n",
      "114620/114620 [==============================] - 4s 38us/step\n",
      "114620/114620 [==============================] - 4s 32us/step\n",
      "114620/114620 [==============================] - 4s 34us/step\n",
      "114620/114620 [==============================] - 4s 34us/step\n",
      "114620/114620 [==============================] - 4s 34us/step\n",
      "114620/114620 [==============================] - 4s 38us/step\n",
      "114620/114620 [==============================] - 4s 34us/step\n",
      "114620/114620 [==============================] - 4s 37us/step\n",
      "114620/114620 [==============================] - 4s 35us/step\n",
      "114620/114620 [==============================] - 4s 35us/step\n",
      "114620/114620 [==============================] - 4s 35us/step\n",
      "114620/114620 [==============================] - 4s 36us/step\n",
      "114620/114620 [==============================] - 4s 36us/step\n",
      "114620/114620 [==============================] - 5s 46us/step\n",
      "114620/114620 [==============================] - 5s 46us/step\n",
      "114620/114620 [==============================] - 6s 50us/step\n",
      "114620/114620 [==============================] - 5s 42us/step\n",
      "114620/114620 [==============================] - 4s 37us/step\n",
      "114620/114620 [==============================] - 4s 37us/step\n",
      "114620/114620 [==============================] - 6s 51us/step\n",
      "114620/114620 [==============================] - 5s 46us/step\n",
      "114620/114620 [==============================] - 5s 46us/step\n",
      "114620/114620 [==============================] - 6s 49us/step\n",
      "114620/114620 [==============================] - 6s 54us/step\n",
      "114620/114620 [==============================] - 5s 43us/step\n",
      "114620/114620 [==============================] - 4s 38us/step\n",
      "114620/114620 [==============================] - 4s 38us/step\n",
      "114620/114620 [==============================] - 4s 39us/step\n",
      "114620/114620 [==============================] - 4s 39us/step\n",
      "114620/114620 [==============================] - 4s 39us/step\n",
      "114620/114620 [==============================] - 5s 40us/step\n",
      "114620/114620 [==============================] - 4s 39us/step\n",
      "114620/114620 [==============================] - 5s 41us/step\n",
      "114620/114620 [==============================] - 6s 49us/step\n",
      "114620/114620 [==============================] - 6s 53us/step\n",
      "114620/114620 [==============================] - 5s 39us/step\n",
      "114620/114620 [==============================] - 5s 42us/step\n",
      "114620/114620 [==============================] - 5s 47us/step\n",
      "114620/114620 [==============================] - 6s 55us/step\n",
      "114620/114620 [==============================] - 6s 52us/step\n",
      "114620/114620 [==============================] - 5s 47us/step\n",
      "114620/114620 [==============================] - 5s 47us/step\n",
      "114620/114620 [==============================] - 5s 46us/step\n",
      "114620/114620 [==============================] - 7s 62us/step\n",
      "114620/114620 [==============================] - 7s 57us/step\n",
      "114620/114620 [==============================] - 5s 48us/step\n",
      "114620/114620 [==============================] - 6s 50us/step\n",
      "114620/114620 [==============================] - 6s 51us/step\n",
      "114620/114620 [==============================] - 6s 53us/step\n",
      "114620/114620 [==============================] - 6s 54us/step\n",
      "114620/114620 [==============================] - 6s 55us/step\n",
      "114620/114620 [==============================] - 6s 56us/step\n",
      "114620/114620 [==============================] - 6s 54us/step\n",
      "114620/114620 [==============================] - 6s 56us/step\n",
      "114620/114620 [==============================] - 6s 52us/step\n",
      "114620/114620 [==============================] - 7s 57us/step\n",
      "114620/114620 [==============================] - 6s 52us/step\n",
      "114620/114620 [==============================] - 6s 53us/step\n",
      "114620/114620 [==============================] - 6s 56us/step\n",
      "114620/114620 [==============================] - 7s 57us/step\n",
      "114620/114620 [==============================] - 6s 52us/step\n",
      "114620/114620 [==============================] - 7s 60us/step\n",
      "114620/114620 [==============================] - 7s 58us/step\n",
      "114620/114620 [==============================] - 7s 57us/step\n",
      "114620/114620 [==============================] - 7s 57us/step\n",
      "114620/114620 [==============================] - 7s 59us/step\n",
      "114620/114620 [==============================] - 7s 61us/step\n",
      "114620/114620 [==============================] - 7s 60us/step\n",
      "114620/114620 [==============================] - 7s 57us/step\n",
      "114620/114620 [==============================] - 7s 64us/step\n",
      "114620/114620 [==============================] - 8s 71us/step\n",
      "114620/114620 [==============================] - 8s 66us/step\n",
      "Mean of Test Accuracies: 0.5028\n",
      "Standard Deviation of Test Accuracies: 0.2980\n"
     ]
    }
   ],
   "source": [
    "import numpy as np\n",
    "# Run the testing 100 times, and save the accuracies in an array\n",
    "batch_size = 10000\n",
    "epochs = 20\n",
    "input_shape = Xtrain.shape[1:]\n",
    "accuracies = []\n",
    "\n",
    "\n",
    "\n",
    "seed(123)\n",
    "for i in range(100):\n",
    "    model = build_DNN(input_shape=input_shape, \n",
    "               n_layers=2, \n",
    "               n_nodes=20,\n",
    "               act_fun='relu', \n",
    "               optimizer='adam', \n",
    "               learning_rate=0.1, \n",
    "               use_bn=True, \n",
    "               use_dropout=False, \n",
    "               use_custom_dropout=True)\n",
    "    score = model.evaluate(Xtest,Ytest,batch_size=100)\n",
    "    accuracies.append(score[1])\n",
    "    \n",
    "\n",
    "# Calculate and print mean and std of accuracies\n",
    "print('Mean of Test Accuracies: %.4f' % np.mean(accuracies))\n",
    "print('Standard Deviation of Test Accuracies: %.4f' % np.std(accuracies))"
   ]
  },
  {
   "cell_type": "markdown",
   "metadata": {},
   "source": [
    "# Part 22: Cross validation uncertainty\n",
    "\n",
    "Cross validation (CV) is often used to evaluate a model, by training and testing using different subsets of the data it is possible to get the uncertainty as the standard deviation over folds. We here use a help function from scikit-learn to setup the CV, see https://scikit-learn.org/stable/modules/generated/sklearn.model_selection.StratifiedKFold.html . Use 10 folds with shuffling, random state 1234. \n",
    "\n",
    "Note: We here assume that you have found the best hyper parameters, so here the data are only split into training and testing, no validation.\n",
    "\n",
    "---\n",
    "\n",
    "**Question 23: What is the mean and the standard deviation of the test accuracy?**\n",
    "\n",
    "\n",
    "From the Cross validation, we have:\n",
    "Mean Test Accuracies: 0.1682\n",
    "Standard Deviation Test Accuracies: 0.3363\n",
    "\n",
    "\n",
    "**Question 24: What is the main advantage of dropout compared to CV for estimating test uncertainty?**\n",
    "\n",
    "\n",
    "For extimating test uncertainty, the main advantage of dropout is that it has a regularzation effect on both training data and the test data, which can prevent overfitting.\n"
   ]
  },
  {
   "cell_type": "code",
   "execution_count": 111,
   "metadata": {},
   "outputs": [
    {
     "data": {
      "text/plain": [
       "<generator object _BaseKFold.split at 0x7f1072895938>"
      ]
     },
     "execution_count": 111,
     "metadata": {},
     "output_type": "execute_result"
    }
   ],
   "source": []
  },
  {
   "cell_type": "code",
   "execution_count": 1,
   "metadata": {},
   "outputs": [
    {
     "ename": "NameError",
     "evalue": "name 'X2' is not defined",
     "output_type": "error",
     "traceback": [
      "\u001b[0;31m---------------------------------------------------------------------------\u001b[0m",
      "\u001b[0;31mNameError\u001b[0m                                 Traceback (most recent call last)",
      "\u001b[0;32m<ipython-input-1-d3b2fd48d62b>\u001b[0m in \u001b[0;36m<module>\u001b[0;34m\u001b[0m\n\u001b[1;32m      5\u001b[0m \u001b[0maccuracies\u001b[0m \u001b[0;34m=\u001b[0m \u001b[0;34m[\u001b[0m\u001b[0;34m]\u001b[0m\u001b[0;34m\u001b[0m\u001b[0;34m\u001b[0m\u001b[0m\n\u001b[1;32m      6\u001b[0m \u001b[0;31m# Loop over cross validation folds\u001b[0m\u001b[0;34m\u001b[0m\u001b[0;34m\u001b[0m\u001b[0;34m\u001b[0m\u001b[0m\n\u001b[0;32m----> 7\u001b[0;31m \u001b[0;32mfor\u001b[0m \u001b[0mtrain_index\u001b[0m\u001b[0;34m,\u001b[0m \u001b[0mtest_index\u001b[0m \u001b[0;32min\u001b[0m \u001b[0mcv\u001b[0m\u001b[0;34m.\u001b[0m\u001b[0msplit\u001b[0m\u001b[0;34m(\u001b[0m\u001b[0mX2\u001b[0m\u001b[0;34m,\u001b[0m \u001b[0mY\u001b[0m \u001b[0;34m)\u001b[0m\u001b[0;34m:\u001b[0m\u001b[0;34m\u001b[0m\u001b[0;34m\u001b[0m\u001b[0m\n\u001b[0m\u001b[1;32m      8\u001b[0m     \u001b[0mX_train\u001b[0m\u001b[0;34m,\u001b[0m \u001b[0mX_test\u001b[0m \u001b[0;34m=\u001b[0m \u001b[0mX2\u001b[0m\u001b[0;34m[\u001b[0m\u001b[0mtrain_index\u001b[0m\u001b[0;34m]\u001b[0m\u001b[0;34m,\u001b[0m \u001b[0mX2\u001b[0m\u001b[0;34m[\u001b[0m\u001b[0mtest_index\u001b[0m\u001b[0;34m]\u001b[0m\u001b[0;34m\u001b[0m\u001b[0;34m\u001b[0m\u001b[0m\n\u001b[1;32m      9\u001b[0m     \u001b[0my_train\u001b[0m\u001b[0;34m,\u001b[0m \u001b[0my_test\u001b[0m \u001b[0;34m=\u001b[0m \u001b[0mY\u001b[0m\u001b[0;34m[\u001b[0m\u001b[0mtrain_index\u001b[0m\u001b[0;34m]\u001b[0m\u001b[0;34m,\u001b[0m \u001b[0mY\u001b[0m\u001b[0;34m[\u001b[0m\u001b[0mtest_index\u001b[0m\u001b[0;34m]\u001b[0m\u001b[0;34m\u001b[0m\u001b[0;34m\u001b[0m\u001b[0m\n",
      "\u001b[0;31mNameError\u001b[0m: name 'X2' is not defined"
     ]
    }
   ],
   "source": [
    "from sklearn.model_selection import StratifiedKFold\n",
    "\n",
    "cv = StratifiedKFold(n_splits=10, shuffle=True, random_state=1234)\n",
    "\n",
    "accuracies = []\n",
    "# Loop over cross validation folds\n",
    "for train_index, test_index in cv.split(X2, Y ):\n",
    "    X_train, X_test = X2[train_index], X2[test_index]\n",
    "    y_train, y_test = Y[train_index], Y[test_index]\n",
    "\n",
    "        \n",
    "    # Calculate class weights for current split\n",
    "    class_weights_cv = class_weight.compute_class_weight('balanced',\n",
    "                                                 np.unique(y_train),\n",
    "                                                 y_train)\n",
    "    \n",
    "\n",
    "    # Rebuild the DNN model, to not continue training on the previously trained model\n",
    "    model_cv = build_DNN(input_shape=X_train.shape[1:], \n",
    "               n_layers=2, \n",
    "               n_nodes=20,\n",
    "               act_fun='relu', \n",
    "               optimizer='adam', \n",
    "               learning_rate=0.1, \n",
    "               use_bn=True, \n",
    "               use_dropout=False, \n",
    "               use_custom_dropout=False)\n",
    "\n",
    "\n",
    "    # Fit the model with training set and class weights for this fold\n",
    "    history_cv = model_cv.fit(X_train, \n",
    "                      y_train, \n",
    "                      class_weight=class_weights_cv,\n",
    "                      batch_size=batch_size, \n",
    "                      epochs=epochs,\n",
    "                      verbose=2,\n",
    "                      validation_data=(X_test,y_test)) \n",
    "    \n",
    "    # Evaluate the model using the test set for this fold\n",
    "    score_cv = model_cv.evaluate(X_test,y_test,batch_size)\n",
    "    \n",
    "    # Save the test accuracy in an array\n",
    "    accuracies.append(score_cv[1])\n",
    "    \n",
    "# Calculate and print mean and std of accuracies\n",
    "\n",
    "print('Mean Test Accuracies: %.4f' % np.mean(accuracies))\n",
    "print('Standard Deviation Test Accuracies: %.4f' % np.std(accuracies))"
   ]
  },
  {
   "cell_type": "markdown",
   "metadata": {},
   "source": [
    "# Part 23: DNN regression\n",
    "\n",
    "A similar DNN can be used for regression, instead of classification.\n",
    "\n",
    "**Question 25: How would you change the DNN in order to use it for regression instead?**\n",
    "\n",
    "\n",
    "Change the loss function to the Mean Square Error.\n",
    "calculate the score: score = model.evaluate(Xtest,Ytest,batch_size=100)\n",
    "and do predictions: predictions = model.predict(Xtest, batch_size=100)"
   ]
  },
  {
   "cell_type": "markdown",
   "metadata": {},
   "source": [
    "## Report\n",
    "\n",
    "Send in this jupyter notebook, with answers to all questions."
   ]
  }
 ],
 "metadata": {
  "kernelspec": {
   "display_name": "Python 3",
   "language": "python",
   "name": "python3"
  },
  "language_info": {
   "codemirror_mode": {
    "name": "ipython",
    "version": 3
   },
   "file_extension": ".py",
   "mimetype": "text/x-python",
   "name": "python",
   "nbconvert_exporter": "python",
   "pygments_lexer": "ipython3",
   "version": "3.6.9"
  }
 },
 "nbformat": 4,
 "nbformat_minor": 4
}
